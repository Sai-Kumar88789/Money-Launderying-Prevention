{
 "cells": [
  {
   "cell_type": "code",
   "execution_count": 1,
   "id": "9ad74bd4",
   "metadata": {},
   "outputs": [
    {
     "name": "stdout",
     "output_type": "stream",
     "text": [
      "4.0.0.6816\n"
     ]
    }
   ],
   "source": [
    "from cassandra.cluster import Cluster\n",
    "from cassandra.auth import PlainTextAuthProvider\n",
    "\n",
    "cloud_config= {\n",
    "  'secure_connect_bundle': 'C:\\\\Users\\\\Sheela Sai kumar\\\\Documents\\\\Cassandra\\\\secure-connect-saikumar.zip'\n",
    "}\n",
    "auth_provider = PlainTextAuthProvider('ORHtAeZaobeZtePBJPxRfroN', \"6QfBaZJmJf+oNSZ.eZg4+DFnqN20+CeBw1ZGCdS1DnmlE7Ih_Ms6_TJYsbKeXnonwH2n0xZAvXCrrfoEahQFaD0H+Grik7oa4C-L5aA2,rwNJ3tIkQL.ybJFU_UGG13Q\")\n",
    "cluster = Cluster(cloud=cloud_config, auth_provider=auth_provider)\n",
    "session = cluster.connect()\n",
    "\n",
    "row = session.execute(\"select release_version from system.local\").one()\n",
    "if row:\n",
    "  print(row[0])\n",
    "else:\n",
    "  print(\"An error occurred.\")"
   ]
  },
  {
   "cell_type": "code",
   "execution_count": 4,
   "id": "425f9b32",
   "metadata": {},
   "outputs": [
    {
     "name": "stdout",
     "output_type": "stream",
     "text": [
      "An error occurred.\n"
     ]
    }
   ],
   "source": [
    "from cassandra.cluster import Cluster\n",
    "from cassandra.auth import PlainTextAuthProvider\n",
    "\n",
    "cloud_config= {\n",
    "  'secure_connect_bundle': 'C:\\\\Users\\\\Sheela Sai kumar\\\\Documents\\\\Cassandra\\\\secure-connect-saikumar.zip'\n",
    "}\n",
    "auth_provider = PlainTextAuthProvider('ORHtAeZaobeZtePBJPxRfroN', \"6QfBaZJmJf+oNSZ.eZg4+DFnqN20+CeBw1ZGCdS1DnmlE7Ih_Ms6_TJYsbKeXnonwH2n0xZAvXCrrfoEahQFaD0H+Grik7oa4C-L5aA2,rwNJ3tIkQL.ybJFU_UGG13Q\")\n",
    "cluster = Cluster(cloud=cloud_config, auth_provider=auth_provider)\n",
    "session = cluster.connect()\n",
    "\n",
    "row = session.execute(\"CREATE table aml.test(stu_id int PRIMARY KEY,stu_name text , stu_city text)\").one()\n",
    "if row:\n",
    "  print(row[0])\n",
    "else:\n",
    "  print(\"An error occurred.\")"
   ]
  },
  {
   "cell_type": "code",
   "execution_count": 1,
   "id": "b34c9d4e",
   "metadata": {},
   "outputs": [
    {
     "name": "stdout",
     "output_type": "stream",
     "text": [
      "None\n"
     ]
    }
   ],
   "source": [
    "from cassandra.cluster import Cluster\n",
    "from cassandra.auth import PlainTextAuthProvider\n",
    "\n",
    "cloud_config= {\n",
    "  'secure_connect_bundle': 'C:\\\\Users\\\\Sheela Sai kumar\\\\Documents\\\\Cassandra\\\\secure-connect-saikumar.zip'\n",
    "}\n",
    "auth_provider = PlainTextAuthProvider('ORHtAeZaobeZtePBJPxRfroN', \"6QfBaZJmJf+oNSZ.eZg4+DFnqN20+CeBw1ZGCdS1DnmlE7Ih_Ms6_TJYsbKeXnonwH2n0xZAvXCrrfoEahQFaD0H+Grik7oa4C-L5aA2,rwNJ3tIkQL.ybJFU_UGG13Q\")\n",
    "cluster = Cluster(cloud=cloud_config, auth_provider=auth_provider)\n",
    "session = cluster.connect()\n",
    "\n",
    "row = session.execute(\"INSERT INTO aml.test(stu_id,stu_name,stu_city) values(32,'varun','guntur')\").one()\n",
    "\n",
    "print(row)\n"
   ]
  },
  {
   "cell_type": "code",
   "execution_count": 13,
   "id": "a8f0b2b1",
   "metadata": {},
   "outputs": [
    {
     "name": "stdout",
     "output_type": "stream",
     "text": [
      "sai\n",
      "kumar\n",
      "kumar\n",
      "kumar\n",
      "naveen\n",
      "govind\n"
     ]
    }
   ],
   "source": [
    "import csv\n",
    "with open(\"C:\\\\Users\\\\Sheela Sai kumar\\\\Documents\\\\AML Project\\\\sampledata.csv\",'r') as file:\n",
    "    reader = csv.DictReader(file)\n",
    "    for row in reader:\n",
    "        print(row['name '])"
   ]
  },
  {
   "cell_type": "code",
   "execution_count": 28,
   "id": "475932ca",
   "metadata": {},
   "outputs": [
    {
     "name": "stdout",
     "output_type": "stream",
     "text": [
      "['class', 'txid']\n",
      "successfully imported\n"
     ]
    }
   ],
   "source": [
    "import csv\n",
    "from cassandra.cluster import Cluster\n",
    "from cassandra.auth import PlainTextAuthProvider\n",
    "\n",
    "cloud_config= {\n",
    "  'secure_connect_bundle': 'C:\\\\Users\\\\Sheela Sai kumar\\\\Documents\\\\Cassandra\\\\secure-connect-saikumar.zip'\n",
    "}\n",
    "auth_provider = PlainTextAuthProvider('ORHtAeZaobeZtePBJPxRfroN', \"6QfBaZJmJf+oNSZ.eZg4+DFnqN20+CeBw1ZGCdS1DnmlE7Ih_Ms6_TJYsbKeXnonwH2n0xZAvXCrrfoEahQFaD0H+Grik7oa4C-L5aA2,rwNJ3tIkQL.ybJFU_UGG13Q\")\n",
    "cluster = Cluster(cloud=cloud_config, auth_provider=auth_provider)\n",
    "session = cluster.connect()\n",
    "\n",
    "column_names_query = \"SELECT column_name FROM system_schema.columns WHERE keyspace_name = 'aml' AND table_name = 'sai'\"\n",
    "\n",
    "# Execute the query to retrieve the column names\n",
    "column_names = [row[0] for row in session.execute(column_names_query)]\n",
    "print(column_names)\n",
    "# Select data from the table and write it to the CSV file\n",
    "rows = session.execute(\"SELECT * FROM aml.sai\")\n",
    "# column_names = rows[0]._fields\n",
    "# session.execute(f\"COPY Data{column_names} TO 'C:\\\\Users\\\\Sheela Sai kumar\\\\Documents\\\\Cassandra\\\\Data.csv' WITH HEADER = TRUE;\")\n",
    "# column_names = [desc[0] for desc in rows.description]\n",
    "print(\"successfully imported\")\n",
    "with open('classes.csv', 'w') as file:\n",
    "    writer = csv.writer(file)\n",
    "    writer.writerow(column_names) # Write the header\n",
    "    for row in rows:\n",
    "        writer.writerow(row)\n",
    "\n",
    "# Close the connection to the Cassandra cluster\n",
    "cluster.shutdown()\n"
   ]
  },
  {
   "cell_type": "code",
   "execution_count": 18,
   "id": "7904d8b3",
   "metadata": {},
   "outputs": [
    {
     "ename": "SyntaxException",
     "evalue": "<Error from server: code=2000 [Syntax error in CQL query] message=\"line 1:46 no viable alternative at input ')' (...aml.test(stu_id,stu_name,stu_city,[)]...)\">",
     "output_type": "error",
     "traceback": [
      "\u001b[1;31m---------------------------------------------------------------------------\u001b[0m",
      "\u001b[1;31mSyntaxException\u001b[0m                           Traceback (most recent call last)",
      "Cell \u001b[1;32mIn[18], line 11\u001b[0m\n\u001b[0;32m      8\u001b[0m cluster \u001b[38;5;241m=\u001b[39m Cluster(cloud\u001b[38;5;241m=\u001b[39mcloud_config, auth_provider\u001b[38;5;241m=\u001b[39mauth_provider)\n\u001b[0;32m      9\u001b[0m session \u001b[38;5;241m=\u001b[39m cluster\u001b[38;5;241m.\u001b[39mconnect()\n\u001b[1;32m---> 11\u001b[0m row \u001b[38;5;241m=\u001b[39m \u001b[43msession\u001b[49m\u001b[38;5;241;43m.\u001b[39;49m\u001b[43mexecute\u001b[49m\u001b[43m(\u001b[49m\u001b[38;5;124;43m\"\u001b[39;49m\u001b[38;5;124;43mINSERT INTO aml.test(stu_id,stu_name,stu_city,) values(321,\u001b[39;49m\u001b[38;5;124;43m'\u001b[39;49m\u001b[38;5;124;43msai\u001b[39;49m\u001b[38;5;124;43m'\u001b[39;49m\u001b[38;5;124;43m,\u001b[39;49m\u001b[38;5;124;43m'\u001b[39;49m\u001b[38;5;124;43mvzm\u001b[39;49m\u001b[38;5;124;43m'\u001b[39;49m\u001b[38;5;124;43m,)\u001b[39;49m\u001b[38;5;124;43m\"\u001b[39;49m\u001b[43m)\u001b[49m\u001b[38;5;241m.\u001b[39mone()\n\u001b[0;32m     13\u001b[0m \u001b[38;5;28mprint\u001b[39m(row)\n",
      "File \u001b[1;32m~\\anaconda3\\envs\\financePro\\lib\\site-packages\\cassandra\\cluster.py:2618\u001b[0m, in \u001b[0;36mcassandra.cluster.Session.execute\u001b[1;34m()\u001b[0m\n",
      "File \u001b[1;32m~\\anaconda3\\envs\\financePro\\lib\\site-packages\\cassandra\\cluster.py:4894\u001b[0m, in \u001b[0;36mcassandra.cluster.ResponseFuture.result\u001b[1;34m()\u001b[0m\n",
      "\u001b[1;31mSyntaxException\u001b[0m: <Error from server: code=2000 [Syntax error in CQL query] message=\"line 1:46 no viable alternative at input ')' (...aml.test(stu_id,stu_name,stu_city,[)]...)\">"
     ]
    }
   ],
   "source": [
    "from cassandra.cluster import Cluster\n",
    "from cassandra.auth import PlainTextAuthProvider\n",
    "\n",
    "cloud_config= {\n",
    "  'secure_connect_bundle': 'C:\\\\Users\\\\Sheela Sai kumar\\\\Documents\\\\Cassandra\\\\secure-connect-saikumar.zip'\n",
    "}\n",
    "auth_provider = PlainTextAuthProvider('ORHtAeZaobeZtePBJPxRfroN', \"6QfBaZJmJf+oNSZ.eZg4+DFnqN20+CeBw1ZGCdS1DnmlE7Ih_Ms6_TJYsbKeXnonwH2n0xZAvXCrrfoEahQFaD0H+Grik7oa4C-L5aA2,rwNJ3tIkQL.ybJFU_UGG13Q\")\n",
    "cluster = Cluster(cloud=cloud_config, auth_provider=auth_provider)\n",
    "session = cluster.connect()\n",
    "\n",
    "row = session.execute(\"INSERT INTO aml.test(stu_id,stu_name,stu_city,) values(321,'sai','vzm',)\").one()\n",
    "\n",
    "print(row)"
   ]
  },
  {
   "cell_type": "code",
   "execution_count": 15,
   "id": "54e3b904",
   "metadata": {},
   "outputs": [],
   "source": [
    "import csv\n",
    "import ast\n",
    "import pandas as pd\n",
    "from cassandra.cluster import Cluster\n",
    "from cassandra.auth import PlainTextAuthProvider\n",
    "\n",
    "def cassandra_connect():\n",
    "    cloud_config= {\n",
    "      'secure_connect_bundle': \"C:\\\\Users\\\\Sheela Sai kumar\\\\Downloads\\\\secure-connect-saikumar.zip\"\n",
    "    }\n",
    "    auth_provider = PlainTextAuthProvider('ORHtAeZaobeZtePBJPxRfroN', \"6QfBaZJmJf+oNSZ.eZg4+DFnqN20+CeBw1ZGCdS1DnmlE7Ih_Ms6_TJYsbKeXnonwH2n0xZAvXCrrfoEahQFaD0H+Grik7oa4C-L5aA2,rwNJ3tIkQL.ybJFU_UGG13Q\")\n",
    "    cluster = Cluster(cloud=cloud_config, auth_provider=auth_provider)\n",
    "    session = cluster.connect()\n",
    "    return session\n",
    "\n",
    "# data set\n",
    "data = pd.read_csv(\"elliptic_bitcoin_dataset/elliptic_txs_classes.csv\")\n",
    "column_types = data.dtypes.tolist()\n",
    "change_type = [str(i).replace('float64','float').replace('int64','int').replace('object','text') for i in column_types ]\n",
    "di = {}\n",
    "for idx,col in enumerate(data.columns):\n",
    "    di[col] = change_type[idx]\n",
    "s1 = \"\"\n",
    "s2 = \"\"\n",
    "n = len(di)\n",
    "c= 0\n",
    "session = cassandra_connect()\n",
    "for col,dtyp in di.items():\n",
    "    if c == 0:\n",
    "        s1 += col + \" \" + dtyp + \" PRIMARY KEY \"\n",
    "        s2 += col\n",
    "    elif c==n-1:\n",
    "        s1 += \", \" + col + \" \" + dtyp\n",
    "        s2 += \", \" + col\n",
    "    else:\n",
    "        s1 += \", \" + col + \" \" + dtyp\n",
    "        s2 += \", \" + col\n",
    "    c+=1\n",
    "session.execute(f\"CREATE TABLE IF NOT EXISTS aml.sai({s1})\")\n",
    "\n",
    "with open(\"elliptic_bitcoin_dataset/elliptic_txs_classes.csv\", 'r') as file:\n",
    "    reader = csv.DictReader(file)\n",
    "    for row in reader:\n",
    "        values = tuple([row[col] if type(row[col])==data[col].dtype  or data[col].dtype == 'object' else ast.literal_eval(row[col]) for col in data.columns ])\n",
    "        session.execute(f\"INSERT INTO aml.sai({s2}) VALUES{values}\".format(*values))\n",
    "# Close the connection to the Cassandra cluster\n",
    "cluster.shutdown()\n"
   ]
  },
  {
   "cell_type": "code",
   "execution_count": 7,
   "id": "979494b6",
   "metadata": {},
   "outputs": [],
   "source": [
    "import pandas as pd"
   ]
  },
  {
   "cell_type": "code",
   "execution_count": 8,
   "id": "7f86e6c0",
   "metadata": {},
   "outputs": [],
   "source": [
    "df = pd.read_csv(\"elliptic_bitcoin_dataset/elliptic_txs_classes.csv\")"
   ]
  },
  {
   "cell_type": "code",
   "execution_count": 10,
   "id": "279b1ec6",
   "metadata": {},
   "outputs": [
    {
     "name": "stdout",
     "output_type": "stream",
     "text": [
      "txId\n",
      "class\n"
     ]
    }
   ],
   "source": [
    "for col in df.columns:\n",
    "    print(col)"
   ]
  },
  {
   "cell_type": "code",
   "execution_count": null,
   "id": "66875d58",
   "metadata": {},
   "outputs": [],
   "source": [
    "COPY data.Student_personal_data (S_id, S_firstname, S_lastname) \n",
    "FROM 'personal_data.csv' \n",
    "WITH HEADER = TRUE;"
   ]
  }
 ],
 "metadata": {
  "kernelspec": {
   "display_name": "Python 3 (ipykernel)",
   "language": "python",
   "name": "python3"
  },
  "language_info": {
   "codemirror_mode": {
    "name": "ipython",
    "version": 3
   },
   "file_extension": ".py",
   "mimetype": "text/x-python",
   "name": "python",
   "nbconvert_exporter": "python",
   "pygments_lexer": "ipython3",
   "version": "3.8.0"
  },
  "vscode": {
   "interpreter": {
    "hash": "a444c19fd90389ec7bccbcf444926015e7a5bbdb0788651a49986602e7124a40"
   }
  }
 },
 "nbformat": 4,
 "nbformat_minor": 5
}
