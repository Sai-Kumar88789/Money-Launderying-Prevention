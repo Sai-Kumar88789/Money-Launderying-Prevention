{
 "cells": [
  {
   "cell_type": "code",
   "execution_count": 1,
   "id": "7588fd4a",
   "metadata": {},
   "outputs": [
    {
     "name": "stderr",
     "output_type": "stream",
     "text": [
      "C:\\Users\\Sheela Sai kumar\\anaconda3\\envs\\financePro\\lib\\site-packages\\xgboost\\compat.py:31: FutureWarning: pandas.Int64Index is deprecated and will be removed from pandas in a future version. Use pandas.Index with the appropriate dtype instead.\n",
      "  from pandas import MultiIndex, Int64Index\n"
     ]
    }
   ],
   "source": [
    "import pandas as pd\n",
    "import matplotlib.pyplot as plt\n",
    "import numpy as np\n",
    "import networkx as nx\n",
    "import seaborn as sns\n",
    "from sklearn.model_selection import train_test_split,cross_val_score\n",
    "from sklearn.linear_model import LogisticRegression\n",
    "from sklearn.metrics import confusion_matrix,accuracy_score,classification_report,ConfusionMatrixDisplay, \\\n",
    "                        precision_score,recall_score,f1_score,roc_auc_score,roc_curve\n",
    "from sklearn.ensemble import RandomForestClassifier , AdaBoostClassifier, GradientBoostingClassifier\n",
    "from sklearn.neighbors import KNeighborsClassifier\n",
    "from sklearn.tree import DecisionTreeClassifier\n",
    "from sklearn.svm import SVC\n",
    "from catboost import CatBoostClassifier\n",
    "from xgboost import XGBClassifier\n",
    "from imblearn.combine import SMOTETomek\n",
    "import pickle\n",
    "import sys\n",
    "\n",
    "if not sys.warnoptions:\n",
    "    import warnings\n",
    "    warnings.simplefilter(\"ignore\")\n",
    "    "
   ]
  },
  {
   "cell_type": "markdown",
   "id": "779f5d04",
   "metadata": {},
   "source": [
    "#### Nodes and edges"
   ]
  },
  {
   "cell_type": "code",
   "execution_count": 2,
   "id": "8439032b",
   "metadata": {
    "scrolled": false
   },
   "outputs": [
    {
     "data": {
      "text/html": [
       "<div>\n",
       "<style scoped>\n",
       "    .dataframe tbody tr th:only-of-type {\n",
       "        vertical-align: middle;\n",
       "    }\n",
       "\n",
       "    .dataframe tbody tr th {\n",
       "        vertical-align: top;\n",
       "    }\n",
       "\n",
       "    .dataframe thead th {\n",
       "        text-align: right;\n",
       "    }\n",
       "</style>\n",
       "<table border=\"1\" class=\"dataframe\">\n",
       "  <thead>\n",
       "    <tr style=\"text-align: right;\">\n",
       "      <th></th>\n",
       "      <th>txId</th>\n",
       "      <th>class</th>\n",
       "    </tr>\n",
       "  </thead>\n",
       "  <tbody>\n",
       "    <tr>\n",
       "      <th>0</th>\n",
       "      <td>230425980</td>\n",
       "      <td>unknown</td>\n",
       "    </tr>\n",
       "    <tr>\n",
       "      <th>1</th>\n",
       "      <td>5530458</td>\n",
       "      <td>unknown</td>\n",
       "    </tr>\n",
       "    <tr>\n",
       "      <th>2</th>\n",
       "      <td>232022460</td>\n",
       "      <td>unknown</td>\n",
       "    </tr>\n",
       "    <tr>\n",
       "      <th>3</th>\n",
       "      <td>232438397</td>\n",
       "      <td>2</td>\n",
       "    </tr>\n",
       "    <tr>\n",
       "      <th>4</th>\n",
       "      <td>230460314</td>\n",
       "      <td>unknown</td>\n",
       "    </tr>\n",
       "  </tbody>\n",
       "</table>\n",
       "</div>"
      ],
      "text/plain": [
       "        txId    class\n",
       "0  230425980  unknown\n",
       "1    5530458  unknown\n",
       "2  232022460  unknown\n",
       "3  232438397        2\n",
       "4  230460314  unknown"
      ]
     },
     "execution_count": 2,
     "metadata": {},
     "output_type": "execute_result"
    }
   ],
   "source": [
    "df_classes = pd.read_csv('../data/elliptic_txs_classes.csv')\n",
    "df_classes.head()"
   ]
  },
  {
   "cell_type": "code",
   "execution_count": 3,
   "id": "173c425e",
   "metadata": {},
   "outputs": [
    {
     "name": "stdout",
     "output_type": "stream",
     "text": [
      "<class 'pandas.core.frame.DataFrame'>\n",
      "RangeIndex: 203769 entries, 0 to 203768\n",
      "Data columns (total 2 columns):\n",
      " #   Column  Non-Null Count   Dtype \n",
      "---  ------  --------------   ----- \n",
      " 0   txId    203769 non-null  int64 \n",
      " 1   class   203769 non-null  object\n",
      "dtypes: int64(1), object(1)\n",
      "memory usage: 3.1+ MB\n"
     ]
    }
   ],
   "source": [
    "df_classes.info()"
   ]
  },
  {
   "cell_type": "code",
   "execution_count": 4,
   "id": "3499f8ca",
   "metadata": {
    "scrolled": true
   },
   "outputs": [
    {
     "data": {
      "text/plain": [
       "(203769, 2)"
      ]
     },
     "execution_count": 4,
     "metadata": {},
     "output_type": "execute_result"
    }
   ],
   "source": [
    "df_classes.shape"
   ]
  },
  {
   "cell_type": "code",
   "execution_count": 5,
   "id": "df009a0f",
   "metadata": {},
   "outputs": [
    {
     "data": {
      "text/plain": [
       "unknown    157205\n",
       "2           42019\n",
       "1            4545\n",
       "Name: class, dtype: int64"
      ]
     },
     "execution_count": 5,
     "metadata": {},
     "output_type": "execute_result"
    }
   ],
   "source": [
    "df_classes['class'].value_counts()"
   ]
  },
  {
   "cell_type": "markdown",
   "id": "4b230d0c",
   "metadata": {},
   "source": [
    "\n",
    "The graph is made of 203,769 nodes and 234,355 edges. Two percent (4,545) of the nodes are labelled class1 (illicit). Twenty-one percent (42,019) are labelled class2 (licit). The remaining transactions are not labelled with regard to licit versus illicit."
   ]
  },
  {
   "cell_type": "code",
   "execution_count": 6,
   "id": "f47e67fd",
   "metadata": {
    "scrolled": true
   },
   "outputs": [
    {
     "data": {
      "text/html": [
       "<div>\n",
       "<style scoped>\n",
       "    .dataframe tbody tr th:only-of-type {\n",
       "        vertical-align: middle;\n",
       "    }\n",
       "\n",
       "    .dataframe tbody tr th {\n",
       "        vertical-align: top;\n",
       "    }\n",
       "\n",
       "    .dataframe thead th {\n",
       "        text-align: right;\n",
       "    }\n",
       "</style>\n",
       "<table border=\"1\" class=\"dataframe\">\n",
       "  <thead>\n",
       "    <tr style=\"text-align: right;\">\n",
       "      <th></th>\n",
       "      <th>txId1</th>\n",
       "      <th>txId2</th>\n",
       "    </tr>\n",
       "  </thead>\n",
       "  <tbody>\n",
       "    <tr>\n",
       "      <th>0</th>\n",
       "      <td>230425980</td>\n",
       "      <td>5530458</td>\n",
       "    </tr>\n",
       "    <tr>\n",
       "      <th>1</th>\n",
       "      <td>232022460</td>\n",
       "      <td>232438397</td>\n",
       "    </tr>\n",
       "    <tr>\n",
       "      <th>2</th>\n",
       "      <td>230460314</td>\n",
       "      <td>230459870</td>\n",
       "    </tr>\n",
       "    <tr>\n",
       "      <th>3</th>\n",
       "      <td>230333930</td>\n",
       "      <td>230595899</td>\n",
       "    </tr>\n",
       "    <tr>\n",
       "      <th>4</th>\n",
       "      <td>232013274</td>\n",
       "      <td>232029206</td>\n",
       "    </tr>\n",
       "  </tbody>\n",
       "</table>\n",
       "</div>"
      ],
      "text/plain": [
       "       txId1      txId2\n",
       "0  230425980    5530458\n",
       "1  232022460  232438397\n",
       "2  230460314  230459870\n",
       "3  230333930  230595899\n",
       "4  232013274  232029206"
      ]
     },
     "execution_count": 6,
     "metadata": {},
     "output_type": "execute_result"
    }
   ],
   "source": [
    "df_edgelist = pd.read_csv('../data/elliptic_txs_edgelist.csv')\n",
    "df_edgelist.head()"
   ]
  },
  {
   "cell_type": "code",
   "execution_count": 7,
   "id": "450ae34e",
   "metadata": {},
   "outputs": [
    {
     "data": {
      "text/plain": [
       "(234355, 2)"
      ]
     },
     "execution_count": 7,
     "metadata": {},
     "output_type": "execute_result"
    }
   ],
   "source": [
    "df_edgelist.shape"
   ]
  },
  {
   "cell_type": "code",
   "execution_count": 8,
   "id": "214e41c2",
   "metadata": {},
   "outputs": [
    {
     "name": "stdout",
     "output_type": "stream",
     "text": [
      "<class 'pandas.core.frame.DataFrame'>\n",
      "RangeIndex: 234355 entries, 0 to 234354\n",
      "Data columns (total 2 columns):\n",
      " #   Column  Non-Null Count   Dtype\n",
      "---  ------  --------------   -----\n",
      " 0   txId1   234355 non-null  int64\n",
      " 1   txId2   234355 non-null  int64\n",
      "dtypes: int64(2)\n",
      "memory usage: 3.6 MB\n"
     ]
    }
   ],
   "source": [
    "df_edgelist.info()"
   ]
  },
  {
   "cell_type": "markdown",
   "id": "5949acb2",
   "metadata": {},
   "source": [
    "### Features"
   ]
  },
  {
   "cell_type": "code",
   "execution_count": 9,
   "id": "ae5cef85",
   "metadata": {
    "scrolled": false
   },
   "outputs": [
    {
     "data": {
      "text/html": [
       "<div>\n",
       "<style scoped>\n",
       "    .dataframe tbody tr th:only-of-type {\n",
       "        vertical-align: middle;\n",
       "    }\n",
       "\n",
       "    .dataframe tbody tr th {\n",
       "        vertical-align: top;\n",
       "    }\n",
       "\n",
       "    .dataframe thead th {\n",
       "        text-align: right;\n",
       "    }\n",
       "</style>\n",
       "<table border=\"1\" class=\"dataframe\">\n",
       "  <thead>\n",
       "    <tr style=\"text-align: right;\">\n",
       "      <th></th>\n",
       "      <th>0</th>\n",
       "      <th>1</th>\n",
       "      <th>2</th>\n",
       "      <th>3</th>\n",
       "      <th>4</th>\n",
       "      <th>5</th>\n",
       "      <th>6</th>\n",
       "      <th>7</th>\n",
       "      <th>8</th>\n",
       "      <th>9</th>\n",
       "      <th>...</th>\n",
       "      <th>157</th>\n",
       "      <th>158</th>\n",
       "      <th>159</th>\n",
       "      <th>160</th>\n",
       "      <th>161</th>\n",
       "      <th>162</th>\n",
       "      <th>163</th>\n",
       "      <th>164</th>\n",
       "      <th>165</th>\n",
       "      <th>166</th>\n",
       "    </tr>\n",
       "  </thead>\n",
       "  <tbody>\n",
       "    <tr>\n",
       "      <th>0</th>\n",
       "      <td>230425980</td>\n",
       "      <td>1</td>\n",
       "      <td>-0.171469</td>\n",
       "      <td>-0.184668</td>\n",
       "      <td>-1.201369</td>\n",
       "      <td>-0.121970</td>\n",
       "      <td>-0.043875</td>\n",
       "      <td>-0.113002</td>\n",
       "      <td>-0.061584</td>\n",
       "      <td>-0.162097</td>\n",
       "      <td>...</td>\n",
       "      <td>-0.562153</td>\n",
       "      <td>-0.600999</td>\n",
       "      <td>1.461330</td>\n",
       "      <td>1.461369</td>\n",
       "      <td>0.018279</td>\n",
       "      <td>-0.087490</td>\n",
       "      <td>-0.131155</td>\n",
       "      <td>-0.097524</td>\n",
       "      <td>-0.120613</td>\n",
       "      <td>-0.119792</td>\n",
       "    </tr>\n",
       "    <tr>\n",
       "      <th>1</th>\n",
       "      <td>5530458</td>\n",
       "      <td>1</td>\n",
       "      <td>-0.171484</td>\n",
       "      <td>-0.184668</td>\n",
       "      <td>-1.201369</td>\n",
       "      <td>-0.121970</td>\n",
       "      <td>-0.043875</td>\n",
       "      <td>-0.113002</td>\n",
       "      <td>-0.061584</td>\n",
       "      <td>-0.162112</td>\n",
       "      <td>...</td>\n",
       "      <td>0.947382</td>\n",
       "      <td>0.673103</td>\n",
       "      <td>-0.979074</td>\n",
       "      <td>-0.978556</td>\n",
       "      <td>0.018279</td>\n",
       "      <td>-0.087490</td>\n",
       "      <td>-0.131155</td>\n",
       "      <td>-0.097524</td>\n",
       "      <td>-0.120613</td>\n",
       "      <td>-0.119792</td>\n",
       "    </tr>\n",
       "    <tr>\n",
       "      <th>2</th>\n",
       "      <td>232022460</td>\n",
       "      <td>1</td>\n",
       "      <td>-0.172107</td>\n",
       "      <td>-0.184668</td>\n",
       "      <td>-1.201369</td>\n",
       "      <td>-0.121970</td>\n",
       "      <td>-0.043875</td>\n",
       "      <td>-0.113002</td>\n",
       "      <td>-0.061584</td>\n",
       "      <td>-0.162749</td>\n",
       "      <td>...</td>\n",
       "      <td>0.670883</td>\n",
       "      <td>0.439728</td>\n",
       "      <td>-0.979074</td>\n",
       "      <td>-0.978556</td>\n",
       "      <td>-0.098889</td>\n",
       "      <td>-0.106715</td>\n",
       "      <td>-0.131155</td>\n",
       "      <td>-0.183671</td>\n",
       "      <td>-0.120613</td>\n",
       "      <td>-0.119792</td>\n",
       "    </tr>\n",
       "    <tr>\n",
       "      <th>3</th>\n",
       "      <td>232438397</td>\n",
       "      <td>1</td>\n",
       "      <td>0.163054</td>\n",
       "      <td>1.963790</td>\n",
       "      <td>-0.646376</td>\n",
       "      <td>12.409294</td>\n",
       "      <td>-0.063725</td>\n",
       "      <td>9.782742</td>\n",
       "      <td>12.414558</td>\n",
       "      <td>-0.163645</td>\n",
       "      <td>...</td>\n",
       "      <td>-0.577099</td>\n",
       "      <td>-0.613614</td>\n",
       "      <td>0.241128</td>\n",
       "      <td>0.241406</td>\n",
       "      <td>1.072793</td>\n",
       "      <td>0.085530</td>\n",
       "      <td>-0.131155</td>\n",
       "      <td>0.677799</td>\n",
       "      <td>-0.120613</td>\n",
       "      <td>-0.119792</td>\n",
       "    </tr>\n",
       "    <tr>\n",
       "      <th>4</th>\n",
       "      <td>230460314</td>\n",
       "      <td>1</td>\n",
       "      <td>1.011523</td>\n",
       "      <td>-0.081127</td>\n",
       "      <td>-1.201369</td>\n",
       "      <td>1.153668</td>\n",
       "      <td>0.333276</td>\n",
       "      <td>1.312656</td>\n",
       "      <td>-0.061584</td>\n",
       "      <td>-0.163523</td>\n",
       "      <td>...</td>\n",
       "      <td>-0.511871</td>\n",
       "      <td>-0.400422</td>\n",
       "      <td>0.517257</td>\n",
       "      <td>0.579382</td>\n",
       "      <td>0.018279</td>\n",
       "      <td>0.277775</td>\n",
       "      <td>0.326394</td>\n",
       "      <td>1.293750</td>\n",
       "      <td>0.178136</td>\n",
       "      <td>0.179117</td>\n",
       "    </tr>\n",
       "  </tbody>\n",
       "</table>\n",
       "<p>5 rows × 167 columns</p>\n",
       "</div>"
      ],
      "text/plain": [
       "         0    1         2         3         4          5         6    \\\n",
       "0  230425980    1 -0.171469 -0.184668 -1.201369  -0.121970 -0.043875   \n",
       "1    5530458    1 -0.171484 -0.184668 -1.201369  -0.121970 -0.043875   \n",
       "2  232022460    1 -0.172107 -0.184668 -1.201369  -0.121970 -0.043875   \n",
       "3  232438397    1  0.163054  1.963790 -0.646376  12.409294 -0.063725   \n",
       "4  230460314    1  1.011523 -0.081127 -1.201369   1.153668  0.333276   \n",
       "\n",
       "        7          8         9    ...       157       158       159       160  \\\n",
       "0 -0.113002  -0.061584 -0.162097  ... -0.562153 -0.600999  1.461330  1.461369   \n",
       "1 -0.113002  -0.061584 -0.162112  ...  0.947382  0.673103 -0.979074 -0.978556   \n",
       "2 -0.113002  -0.061584 -0.162749  ...  0.670883  0.439728 -0.979074 -0.978556   \n",
       "3  9.782742  12.414558 -0.163645  ... -0.577099 -0.613614  0.241128  0.241406   \n",
       "4  1.312656  -0.061584 -0.163523  ... -0.511871 -0.400422  0.517257  0.579382   \n",
       "\n",
       "        161       162       163       164       165       166  \n",
       "0  0.018279 -0.087490 -0.131155 -0.097524 -0.120613 -0.119792  \n",
       "1  0.018279 -0.087490 -0.131155 -0.097524 -0.120613 -0.119792  \n",
       "2 -0.098889 -0.106715 -0.131155 -0.183671 -0.120613 -0.119792  \n",
       "3  1.072793  0.085530 -0.131155  0.677799 -0.120613 -0.119792  \n",
       "4  0.018279  0.277775  0.326394  1.293750  0.178136  0.179117  \n",
       "\n",
       "[5 rows x 167 columns]"
      ]
     },
     "execution_count": 9,
     "metadata": {},
     "output_type": "execute_result"
    }
   ],
   "source": [
    "df_features = pd.read_csv('../data/elliptic_txs_features.csv',header = None )\n",
    "df_features.head()"
   ]
  },
  {
   "cell_type": "code",
   "execution_count": 10,
   "id": "cfe45940",
   "metadata": {},
   "outputs": [
    {
     "data": {
      "text/plain": [
       "(203769, 167)"
      ]
     },
     "execution_count": 10,
     "metadata": {},
     "output_type": "execute_result"
    }
   ],
   "source": [
    "df_features.shape"
   ]
  },
  {
   "cell_type": "code",
   "execution_count": 11,
   "id": "dd032dea",
   "metadata": {},
   "outputs": [
    {
     "name": "stdout",
     "output_type": "stream",
     "text": [
      "<class 'pandas.core.frame.DataFrame'>\n",
      "RangeIndex: 203769 entries, 0 to 203768\n",
      "Columns: 167 entries, 0 to 166\n",
      "dtypes: float64(165), int64(2)\n",
      "memory usage: 259.6 MB\n"
     ]
    }
   ],
   "source": [
    "df_features.info()"
   ]
  },
  {
   "cell_type": "markdown",
   "id": "b838ebae",
   "metadata": {},
   "source": [
    "## EDA"
   ]
  },
  {
   "cell_type": "code",
   "execution_count": 12,
   "id": "11e1f7e6",
   "metadata": {
    "scrolled": true
   },
   "outputs": [
    {
     "data": {
      "text/html": [
       "<div>\n",
       "<style scoped>\n",
       "    .dataframe tbody tr th:only-of-type {\n",
       "        vertical-align: middle;\n",
       "    }\n",
       "\n",
       "    .dataframe tbody tr th {\n",
       "        vertical-align: top;\n",
       "    }\n",
       "\n",
       "    .dataframe thead th {\n",
       "        text-align: right;\n",
       "    }\n",
       "</style>\n",
       "<table border=\"1\" class=\"dataframe\">\n",
       "  <thead>\n",
       "    <tr style=\"text-align: right;\">\n",
       "      <th></th>\n",
       "      <th>index</th>\n",
       "      <th>no.of missing values</th>\n",
       "    </tr>\n",
       "  </thead>\n",
       "  <tbody>\n",
       "    <tr>\n",
       "      <th>0</th>\n",
       "      <td>0</td>\n",
       "      <td>0</td>\n",
       "    </tr>\n",
       "    <tr>\n",
       "      <th>1</th>\n",
       "      <td>1</td>\n",
       "      <td>0</td>\n",
       "    </tr>\n",
       "    <tr>\n",
       "      <th>2</th>\n",
       "      <td>2</td>\n",
       "      <td>0</td>\n",
       "    </tr>\n",
       "    <tr>\n",
       "      <th>3</th>\n",
       "      <td>3</td>\n",
       "      <td>0</td>\n",
       "    </tr>\n",
       "    <tr>\n",
       "      <th>4</th>\n",
       "      <td>4</td>\n",
       "      <td>0</td>\n",
       "    </tr>\n",
       "  </tbody>\n",
       "</table>\n",
       "</div>"
      ],
      "text/plain": [
       "   index  no.of missing values\n",
       "0      0                     0\n",
       "1      1                     0\n",
       "2      2                     0\n",
       "3      3                     0\n",
       "4      4                     0"
      ]
     },
     "execution_count": 12,
     "metadata": {},
     "output_type": "execute_result"
    }
   ],
   "source": [
    "df_feat_missing = df_features.isna().sum().reset_index().rename(columns = {0:'no.of missing values'})\n",
    "df_feat_missing.head()"
   ]
  },
  {
   "cell_type": "code",
   "execution_count": 13,
   "id": "cde2824b",
   "metadata": {},
   "outputs": [
    {
     "data": {
      "text/plain": [
       "index                   0\n",
       "no.of missing values    0\n",
       "dtype: int64"
      ]
     },
     "execution_count": 13,
     "metadata": {},
     "output_type": "execute_result"
    }
   ],
   "source": [
    "df_feat_missing[df_feat_missing['no.of missing values']!=0].count()"
   ]
  },
  {
   "cell_type": "code",
   "execution_count": 14,
   "id": "473511a1",
   "metadata": {
    "scrolled": true
   },
   "outputs": [
    {
     "data": {
      "text/plain": [
       "array([ 1,  2,  3,  4,  5,  6,  7,  8,  9, 10, 11, 12, 13, 14, 15, 16, 17,\n",
       "       18, 19, 20, 21, 22, 23, 24, 25, 26, 27, 28, 29, 30, 31, 32, 33, 34,\n",
       "       35, 36, 37, 38, 39, 40, 41, 42, 43, 44, 45, 46, 47, 48, 49],\n",
       "      dtype=int64)"
      ]
     },
     "execution_count": 14,
     "metadata": {},
     "output_type": "execute_result"
    }
   ],
   "source": [
    "df_features[1].unique()"
   ]
  },
  {
   "cell_type": "markdown",
   "id": "d33c7275",
   "metadata": {},
   "source": [
    "There are 166 features associated with each node. Due to intellectual property issues, they cannot provide an exact description of all the features in the dataset. There is a time step associated to each node, representing a measure of the time when a transaction was broadcasted to the Bitcoin network. The time steps, running from 1 to 49, are evenly spaced with an interval of about two weeks. Each time step contains a single connected component of transactions that appeared on the blockchain within less than three hours between each other; there are no edges connecting the different time steps.\n",
    "\n",
    "The first 94 features represent local information about the transaction – including the time step described above, number of inputs/outputs, transaction fee, output volume and aggregated figures such as average BTC received (spent) by the inputs/outputs and average number of incoming (outgoing) transactions associated with the inputs/outputs. The remaining 72 features are aggregated features, obtained using transaction information one-hop backward/forward from the center node - giving the maximum, minimum, standard deviation and correlation coefficients of the neighbour transactions for the same information data (number of inputs/outputs, transaction fee, etc.)."
   ]
  },
  {
   "cell_type": "code",
   "execution_count": 15,
   "id": "bad0de8c",
   "metadata": {},
   "outputs": [
    {
     "name": "stdout",
     "output_type": "stream",
     "text": [
      "sample: ['txid', 'timestamp', 'trans_feat_1', 'trans_feat_2', 'trans_feat_3']\n",
      "No.of columns : 167\n"
     ]
    }
   ],
   "source": [
    "# based on the given data , assigning feature names\n",
    "col = ['txid','timestamp'] + [\"trans_feat_{0}\".format(i) for i in range(1,94)] + ['aggre_feat_{}'.format(j) for j in range(1,73)]\n",
    "print('sample:',col[:5])\n",
    "print('No.of columns :', len(col))"
   ]
  },
  {
   "cell_type": "code",
   "execution_count": 16,
   "id": "33c0fbe5",
   "metadata": {},
   "outputs": [
    {
     "data": {
      "text/html": [
       "<div>\n",
       "<style scoped>\n",
       "    .dataframe tbody tr th:only-of-type {\n",
       "        vertical-align: middle;\n",
       "    }\n",
       "\n",
       "    .dataframe tbody tr th {\n",
       "        vertical-align: top;\n",
       "    }\n",
       "\n",
       "    .dataframe thead th {\n",
       "        text-align: right;\n",
       "    }\n",
       "</style>\n",
       "<table border=\"1\" class=\"dataframe\">\n",
       "  <thead>\n",
       "    <tr style=\"text-align: right;\">\n",
       "      <th></th>\n",
       "      <th>txid</th>\n",
       "      <th>timestamp</th>\n",
       "      <th>trans_feat_1</th>\n",
       "      <th>trans_feat_2</th>\n",
       "      <th>trans_feat_3</th>\n",
       "      <th>trans_feat_4</th>\n",
       "      <th>trans_feat_5</th>\n",
       "      <th>trans_feat_6</th>\n",
       "      <th>trans_feat_7</th>\n",
       "      <th>trans_feat_8</th>\n",
       "      <th>...</th>\n",
       "      <th>aggre_feat_63</th>\n",
       "      <th>aggre_feat_64</th>\n",
       "      <th>aggre_feat_65</th>\n",
       "      <th>aggre_feat_66</th>\n",
       "      <th>aggre_feat_67</th>\n",
       "      <th>aggre_feat_68</th>\n",
       "      <th>aggre_feat_69</th>\n",
       "      <th>aggre_feat_70</th>\n",
       "      <th>aggre_feat_71</th>\n",
       "      <th>aggre_feat_72</th>\n",
       "    </tr>\n",
       "  </thead>\n",
       "  <tbody>\n",
       "    <tr>\n",
       "      <th>0</th>\n",
       "      <td>230425980</td>\n",
       "      <td>1</td>\n",
       "      <td>-0.171469</td>\n",
       "      <td>-0.184668</td>\n",
       "      <td>-1.201369</td>\n",
       "      <td>-0.121970</td>\n",
       "      <td>-0.043875</td>\n",
       "      <td>-0.113002</td>\n",
       "      <td>-0.061584</td>\n",
       "      <td>-0.162097</td>\n",
       "      <td>...</td>\n",
       "      <td>-0.562153</td>\n",
       "      <td>-0.600999</td>\n",
       "      <td>1.461330</td>\n",
       "      <td>1.461369</td>\n",
       "      <td>0.018279</td>\n",
       "      <td>-0.087490</td>\n",
       "      <td>-0.131155</td>\n",
       "      <td>-0.097524</td>\n",
       "      <td>-0.120613</td>\n",
       "      <td>-0.119792</td>\n",
       "    </tr>\n",
       "    <tr>\n",
       "      <th>1</th>\n",
       "      <td>5530458</td>\n",
       "      <td>1</td>\n",
       "      <td>-0.171484</td>\n",
       "      <td>-0.184668</td>\n",
       "      <td>-1.201369</td>\n",
       "      <td>-0.121970</td>\n",
       "      <td>-0.043875</td>\n",
       "      <td>-0.113002</td>\n",
       "      <td>-0.061584</td>\n",
       "      <td>-0.162112</td>\n",
       "      <td>...</td>\n",
       "      <td>0.947382</td>\n",
       "      <td>0.673103</td>\n",
       "      <td>-0.979074</td>\n",
       "      <td>-0.978556</td>\n",
       "      <td>0.018279</td>\n",
       "      <td>-0.087490</td>\n",
       "      <td>-0.131155</td>\n",
       "      <td>-0.097524</td>\n",
       "      <td>-0.120613</td>\n",
       "      <td>-0.119792</td>\n",
       "    </tr>\n",
       "    <tr>\n",
       "      <th>2</th>\n",
       "      <td>232022460</td>\n",
       "      <td>1</td>\n",
       "      <td>-0.172107</td>\n",
       "      <td>-0.184668</td>\n",
       "      <td>-1.201369</td>\n",
       "      <td>-0.121970</td>\n",
       "      <td>-0.043875</td>\n",
       "      <td>-0.113002</td>\n",
       "      <td>-0.061584</td>\n",
       "      <td>-0.162749</td>\n",
       "      <td>...</td>\n",
       "      <td>0.670883</td>\n",
       "      <td>0.439728</td>\n",
       "      <td>-0.979074</td>\n",
       "      <td>-0.978556</td>\n",
       "      <td>-0.098889</td>\n",
       "      <td>-0.106715</td>\n",
       "      <td>-0.131155</td>\n",
       "      <td>-0.183671</td>\n",
       "      <td>-0.120613</td>\n",
       "      <td>-0.119792</td>\n",
       "    </tr>\n",
       "    <tr>\n",
       "      <th>3</th>\n",
       "      <td>232438397</td>\n",
       "      <td>1</td>\n",
       "      <td>0.163054</td>\n",
       "      <td>1.963790</td>\n",
       "      <td>-0.646376</td>\n",
       "      <td>12.409294</td>\n",
       "      <td>-0.063725</td>\n",
       "      <td>9.782742</td>\n",
       "      <td>12.414558</td>\n",
       "      <td>-0.163645</td>\n",
       "      <td>...</td>\n",
       "      <td>-0.577099</td>\n",
       "      <td>-0.613614</td>\n",
       "      <td>0.241128</td>\n",
       "      <td>0.241406</td>\n",
       "      <td>1.072793</td>\n",
       "      <td>0.085530</td>\n",
       "      <td>-0.131155</td>\n",
       "      <td>0.677799</td>\n",
       "      <td>-0.120613</td>\n",
       "      <td>-0.119792</td>\n",
       "    </tr>\n",
       "    <tr>\n",
       "      <th>4</th>\n",
       "      <td>230460314</td>\n",
       "      <td>1</td>\n",
       "      <td>1.011523</td>\n",
       "      <td>-0.081127</td>\n",
       "      <td>-1.201369</td>\n",
       "      <td>1.153668</td>\n",
       "      <td>0.333276</td>\n",
       "      <td>1.312656</td>\n",
       "      <td>-0.061584</td>\n",
       "      <td>-0.163523</td>\n",
       "      <td>...</td>\n",
       "      <td>-0.511871</td>\n",
       "      <td>-0.400422</td>\n",
       "      <td>0.517257</td>\n",
       "      <td>0.579382</td>\n",
       "      <td>0.018279</td>\n",
       "      <td>0.277775</td>\n",
       "      <td>0.326394</td>\n",
       "      <td>1.293750</td>\n",
       "      <td>0.178136</td>\n",
       "      <td>0.179117</td>\n",
       "    </tr>\n",
       "  </tbody>\n",
       "</table>\n",
       "<p>5 rows × 167 columns</p>\n",
       "</div>"
      ],
      "text/plain": [
       "        txid  timestamp  trans_feat_1  trans_feat_2  trans_feat_3  \\\n",
       "0  230425980          1     -0.171469     -0.184668     -1.201369   \n",
       "1    5530458          1     -0.171484     -0.184668     -1.201369   \n",
       "2  232022460          1     -0.172107     -0.184668     -1.201369   \n",
       "3  232438397          1      0.163054      1.963790     -0.646376   \n",
       "4  230460314          1      1.011523     -0.081127     -1.201369   \n",
       "\n",
       "   trans_feat_4  trans_feat_5  trans_feat_6  trans_feat_7  trans_feat_8  ...  \\\n",
       "0     -0.121970     -0.043875     -0.113002     -0.061584     -0.162097  ...   \n",
       "1     -0.121970     -0.043875     -0.113002     -0.061584     -0.162112  ...   \n",
       "2     -0.121970     -0.043875     -0.113002     -0.061584     -0.162749  ...   \n",
       "3     12.409294     -0.063725      9.782742     12.414558     -0.163645  ...   \n",
       "4      1.153668      0.333276      1.312656     -0.061584     -0.163523  ...   \n",
       "\n",
       "   aggre_feat_63  aggre_feat_64  aggre_feat_65  aggre_feat_66  aggre_feat_67  \\\n",
       "0      -0.562153      -0.600999       1.461330       1.461369       0.018279   \n",
       "1       0.947382       0.673103      -0.979074      -0.978556       0.018279   \n",
       "2       0.670883       0.439728      -0.979074      -0.978556      -0.098889   \n",
       "3      -0.577099      -0.613614       0.241128       0.241406       1.072793   \n",
       "4      -0.511871      -0.400422       0.517257       0.579382       0.018279   \n",
       "\n",
       "   aggre_feat_68  aggre_feat_69  aggre_feat_70  aggre_feat_71  aggre_feat_72  \n",
       "0      -0.087490      -0.131155      -0.097524      -0.120613      -0.119792  \n",
       "1      -0.087490      -0.131155      -0.097524      -0.120613      -0.119792  \n",
       "2      -0.106715      -0.131155      -0.183671      -0.120613      -0.119792  \n",
       "3       0.085530      -0.131155       0.677799      -0.120613      -0.119792  \n",
       "4       0.277775       0.326394       1.293750       0.178136       0.179117  \n",
       "\n",
       "[5 rows x 167 columns]"
      ]
     },
     "execution_count": 16,
     "metadata": {},
     "output_type": "execute_result"
    }
   ],
   "source": [
    "df_features.columns = col\n",
    "df_features.head()"
   ]
  },
  {
   "cell_type": "code",
   "execution_count": 17,
   "id": "7ca6db11",
   "metadata": {
    "scrolled": true
   },
   "outputs": [
    {
     "data": {
      "text/plain": [
       "Text(0.5, 1.0, 'No.of transactions in different time stamp')"
      ]
     },
     "execution_count": 17,
     "metadata": {},
     "output_type": "execute_result"
    },
    {
     "data": {
      "image/png": "[encoded data removed]",
      "text/plain": [
       "<Figure size 640x480 with 1 Axes>"
      ]
     },
     "metadata": {},
     "output_type": "display_data"
    }
   ],
   "source": [
    "df_features['timestamp'].value_counts().sort_index().plot()\n",
    "plt.title('No.of transactions in different time stamp')"
   ]
  },
  {
   "cell_type": "markdown",
   "id": "2a6fc813",
   "metadata": {},
   "source": [
    "Let's split the transactions based on the classes"
   ]
  },
  {
   "cell_type": "code",
   "execution_count": 18,
   "id": "38f53b82",
   "metadata": {
    "scrolled": true
   },
   "outputs": [
    {
     "data": {
      "text/html": [
       "<div>\n",
       "<style scoped>\n",
       "    .dataframe tbody tr th:only-of-type {\n",
       "        vertical-align: middle;\n",
       "    }\n",
       "\n",
       "    .dataframe tbody tr th {\n",
       "        vertical-align: top;\n",
       "    }\n",
       "\n",
       "    .dataframe thead th {\n",
       "        text-align: right;\n",
       "    }\n",
       "</style>\n",
       "<table border=\"1\" class=\"dataframe\">\n",
       "  <thead>\n",
       "    <tr style=\"text-align: right;\">\n",
       "      <th></th>\n",
       "      <th>txid</th>\n",
       "      <th>timestamp</th>\n",
       "      <th>trans_feat_1</th>\n",
       "      <th>trans_feat_2</th>\n",
       "      <th>trans_feat_3</th>\n",
       "      <th>trans_feat_4</th>\n",
       "      <th>trans_feat_5</th>\n",
       "      <th>trans_feat_6</th>\n",
       "      <th>trans_feat_7</th>\n",
       "      <th>trans_feat_8</th>\n",
       "      <th>...</th>\n",
       "      <th>aggre_feat_64</th>\n",
       "      <th>aggre_feat_65</th>\n",
       "      <th>aggre_feat_66</th>\n",
       "      <th>aggre_feat_67</th>\n",
       "      <th>aggre_feat_68</th>\n",
       "      <th>aggre_feat_69</th>\n",
       "      <th>aggre_feat_70</th>\n",
       "      <th>aggre_feat_71</th>\n",
       "      <th>aggre_feat_72</th>\n",
       "      <th>class</th>\n",
       "    </tr>\n",
       "  </thead>\n",
       "  <tbody>\n",
       "    <tr>\n",
       "      <th>0</th>\n",
       "      <td>230425980</td>\n",
       "      <td>1</td>\n",
       "      <td>-0.171469</td>\n",
       "      <td>-0.184668</td>\n",
       "      <td>-1.201369</td>\n",
       "      <td>-0.121970</td>\n",
       "      <td>-0.043875</td>\n",
       "      <td>-0.113002</td>\n",
       "      <td>-0.061584</td>\n",
       "      <td>-0.162097</td>\n",
       "      <td>...</td>\n",
       "      <td>-0.600999</td>\n",
       "      <td>1.461330</td>\n",
       "      <td>1.461369</td>\n",
       "      <td>0.018279</td>\n",
       "      <td>-0.087490</td>\n",
       "      <td>-0.131155</td>\n",
       "      <td>-0.097524</td>\n",
       "      <td>-0.120613</td>\n",
       "      <td>-0.119792</td>\n",
       "      <td>unknown</td>\n",
       "    </tr>\n",
       "    <tr>\n",
       "      <th>1</th>\n",
       "      <td>5530458</td>\n",
       "      <td>1</td>\n",
       "      <td>-0.171484</td>\n",
       "      <td>-0.184668</td>\n",
       "      <td>-1.201369</td>\n",
       "      <td>-0.121970</td>\n",
       "      <td>-0.043875</td>\n",
       "      <td>-0.113002</td>\n",
       "      <td>-0.061584</td>\n",
       "      <td>-0.162112</td>\n",
       "      <td>...</td>\n",
       "      <td>0.673103</td>\n",
       "      <td>-0.979074</td>\n",
       "      <td>-0.978556</td>\n",
       "      <td>0.018279</td>\n",
       "      <td>-0.087490</td>\n",
       "      <td>-0.131155</td>\n",
       "      <td>-0.097524</td>\n",
       "      <td>-0.120613</td>\n",
       "      <td>-0.119792</td>\n",
       "      <td>unknown</td>\n",
       "    </tr>\n",
       "    <tr>\n",
       "      <th>2</th>\n",
       "      <td>232022460</td>\n",
       "      <td>1</td>\n",
       "      <td>-0.172107</td>\n",
       "      <td>-0.184668</td>\n",
       "      <td>-1.201369</td>\n",
       "      <td>-0.121970</td>\n",
       "      <td>-0.043875</td>\n",
       "      <td>-0.113002</td>\n",
       "      <td>-0.061584</td>\n",
       "      <td>-0.162749</td>\n",
       "      <td>...</td>\n",
       "      <td>0.439728</td>\n",
       "      <td>-0.979074</td>\n",
       "      <td>-0.978556</td>\n",
       "      <td>-0.098889</td>\n",
       "      <td>-0.106715</td>\n",
       "      <td>-0.131155</td>\n",
       "      <td>-0.183671</td>\n",
       "      <td>-0.120613</td>\n",
       "      <td>-0.119792</td>\n",
       "      <td>unknown</td>\n",
       "    </tr>\n",
       "    <tr>\n",
       "      <th>3</th>\n",
       "      <td>232438397</td>\n",
       "      <td>1</td>\n",
       "      <td>0.163054</td>\n",
       "      <td>1.963790</td>\n",
       "      <td>-0.646376</td>\n",
       "      <td>12.409294</td>\n",
       "      <td>-0.063725</td>\n",
       "      <td>9.782742</td>\n",
       "      <td>12.414558</td>\n",
       "      <td>-0.163645</td>\n",
       "      <td>...</td>\n",
       "      <td>-0.613614</td>\n",
       "      <td>0.241128</td>\n",
       "      <td>0.241406</td>\n",
       "      <td>1.072793</td>\n",
       "      <td>0.085530</td>\n",
       "      <td>-0.131155</td>\n",
       "      <td>0.677799</td>\n",
       "      <td>-0.120613</td>\n",
       "      <td>-0.119792</td>\n",
       "      <td>2</td>\n",
       "    </tr>\n",
       "    <tr>\n",
       "      <th>4</th>\n",
       "      <td>230460314</td>\n",
       "      <td>1</td>\n",
       "      <td>1.011523</td>\n",
       "      <td>-0.081127</td>\n",
       "      <td>-1.201369</td>\n",
       "      <td>1.153668</td>\n",
       "      <td>0.333276</td>\n",
       "      <td>1.312656</td>\n",
       "      <td>-0.061584</td>\n",
       "      <td>-0.163523</td>\n",
       "      <td>...</td>\n",
       "      <td>-0.400422</td>\n",
       "      <td>0.517257</td>\n",
       "      <td>0.579382</td>\n",
       "      <td>0.018279</td>\n",
       "      <td>0.277775</td>\n",
       "      <td>0.326394</td>\n",
       "      <td>1.293750</td>\n",
       "      <td>0.178136</td>\n",
       "      <td>0.179117</td>\n",
       "      <td>unknown</td>\n",
       "    </tr>\n",
       "  </tbody>\n",
       "</table>\n",
       "<p>5 rows × 168 columns</p>\n",
       "</div>"
      ],
      "text/plain": [
       "        txid  timestamp  trans_feat_1  trans_feat_2  trans_feat_3  \\\n",
       "0  230425980          1     -0.171469     -0.184668     -1.201369   \n",
       "1    5530458          1     -0.171484     -0.184668     -1.201369   \n",
       "2  232022460          1     -0.172107     -0.184668     -1.201369   \n",
       "3  232438397          1      0.163054      1.963790     -0.646376   \n",
       "4  230460314          1      1.011523     -0.081127     -1.201369   \n",
       "\n",
       "   trans_feat_4  trans_feat_5  trans_feat_6  trans_feat_7  trans_feat_8  ...  \\\n",
       "0     -0.121970     -0.043875     -0.113002     -0.061584     -0.162097  ...   \n",
       "1     -0.121970     -0.043875     -0.113002     -0.061584     -0.162112  ...   \n",
       "2     -0.121970     -0.043875     -0.113002     -0.061584     -0.162749  ...   \n",
       "3     12.409294     -0.063725      9.782742     12.414558     -0.163645  ...   \n",
       "4      1.153668      0.333276      1.312656     -0.061584     -0.163523  ...   \n",
       "\n",
       "   aggre_feat_64  aggre_feat_65  aggre_feat_66  aggre_feat_67  aggre_feat_68  \\\n",
       "0      -0.600999       1.461330       1.461369       0.018279      -0.087490   \n",
       "1       0.673103      -0.979074      -0.978556       0.018279      -0.087490   \n",
       "2       0.439728      -0.979074      -0.978556      -0.098889      -0.106715   \n",
       "3      -0.613614       0.241128       0.241406       1.072793       0.085530   \n",
       "4      -0.400422       0.517257       0.579382       0.018279       0.277775   \n",
       "\n",
       "   aggre_feat_69  aggre_feat_70  aggre_feat_71  aggre_feat_72    class  \n",
       "0      -0.131155      -0.097524      -0.120613      -0.119792  unknown  \n",
       "1      -0.131155      -0.097524      -0.120613      -0.119792  unknown  \n",
       "2      -0.131155      -0.183671      -0.120613      -0.119792  unknown  \n",
       "3      -0.131155       0.677799      -0.120613      -0.119792        2  \n",
       "4       0.326394       1.293750       0.178136       0.179117  unknown  \n",
       "\n",
       "[5 rows x 168 columns]"
      ]
     },
     "execution_count": 18,
     "metadata": {},
     "output_type": "execute_result"
    }
   ],
   "source": [
    "df_merge = pd.merge(df_features,df_classes, left_on = 'txid', right_on = 'txId', how = 'left')\n",
    "df_merge = df_merge.drop(['txId'],axis = 1)\n",
    "df_merge.head()"
   ]
  },
  {
   "cell_type": "code",
   "execution_count": 19,
   "id": "0ea4a48c",
   "metadata": {
    "scrolled": true
   },
   "outputs": [
    {
     "data": {
      "text/html": [
       "<div>\n",
       "<style scoped>\n",
       "    .dataframe tbody tr th:only-of-type {\n",
       "        vertical-align: middle;\n",
       "    }\n",
       "\n",
       "    .dataframe tbody tr th {\n",
       "        vertical-align: top;\n",
       "    }\n",
       "\n",
       "    .dataframe thead th {\n",
       "        text-align: right;\n",
       "    }\n",
       "</style>\n",
       "<table border=\"1\" class=\"dataframe\">\n",
       "  <thead>\n",
       "    <tr style=\"text-align: right;\">\n",
       "      <th></th>\n",
       "      <th>timestamp</th>\n",
       "      <th>class</th>\n",
       "      <th>count</th>\n",
       "    </tr>\n",
       "  </thead>\n",
       "  <tbody>\n",
       "    <tr>\n",
       "      <th>0</th>\n",
       "      <td>1</td>\n",
       "      <td>1</td>\n",
       "      <td>17</td>\n",
       "    </tr>\n",
       "    <tr>\n",
       "      <th>1</th>\n",
       "      <td>1</td>\n",
       "      <td>2</td>\n",
       "      <td>2130</td>\n",
       "    </tr>\n",
       "    <tr>\n",
       "      <th>2</th>\n",
       "      <td>1</td>\n",
       "      <td>unknown</td>\n",
       "      <td>5733</td>\n",
       "    </tr>\n",
       "    <tr>\n",
       "      <th>3</th>\n",
       "      <td>2</td>\n",
       "      <td>1</td>\n",
       "      <td>18</td>\n",
       "    </tr>\n",
       "    <tr>\n",
       "      <th>4</th>\n",
       "      <td>2</td>\n",
       "      <td>2</td>\n",
       "      <td>1099</td>\n",
       "    </tr>\n",
       "  </tbody>\n",
       "</table>\n",
       "</div>"
      ],
      "text/plain": [
       "   timestamp    class  count\n",
       "0          1        1     17\n",
       "1          1        2   2130\n",
       "2          1  unknown   5733\n",
       "3          2        1     18\n",
       "4          2        2   1099"
      ]
     },
     "execution_count": 19,
     "metadata": {},
     "output_type": "execute_result"
    }
   ],
   "source": [
    "df_group = df_merge.groupby(['timestamp','class'])['txid'].count().reset_index().rename(columns = {'txid':'count'})\n",
    "df_group.head()"
   ]
  },
  {
   "cell_type": "code",
   "execution_count": 20,
   "id": "a37ca333",
   "metadata": {},
   "outputs": [
    {
     "data": {
      "image/png": "[encoded data removed]",
      "text/plain": [
       "<Figure size 800x600 with 1 Axes>"
      ]
     },
     "metadata": {},
     "output_type": "display_data"
    }
   ],
   "source": [
    "plt.figure(figsize = (8,6))\n",
    "sns.lineplot(data = df_group , x = 'timestamp',y ='count',hue = 'class')\n",
    "plt.title('No.of transactions in different time stamp by class')\n",
    "plt.legend(loc = (1,0.85))\n",
    "plt.show()"
   ]
  },
  {
   "cell_type": "code",
   "execution_count": 21,
   "id": "6f4a2fb5",
   "metadata": {},
   "outputs": [
    {
     "data": {
      "text/html": [
       "<div>\n",
       "<style scoped>\n",
       "    .dataframe tbody tr th:only-of-type {\n",
       "        vertical-align: middle;\n",
       "    }\n",
       "\n",
       "    .dataframe tbody tr th {\n",
       "        vertical-align: top;\n",
       "    }\n",
       "\n",
       "    .dataframe thead th {\n",
       "        text-align: right;\n",
       "    }\n",
       "</style>\n",
       "<table border=\"1\" class=\"dataframe\">\n",
       "  <thead>\n",
       "    <tr style=\"text-align: right;\">\n",
       "      <th></th>\n",
       "      <th>index</th>\n",
       "      <th>no.of missing values</th>\n",
       "    </tr>\n",
       "  </thead>\n",
       "  <tbody>\n",
       "    <tr>\n",
       "      <th>0</th>\n",
       "      <td>txid</td>\n",
       "      <td>0</td>\n",
       "    </tr>\n",
       "    <tr>\n",
       "      <th>1</th>\n",
       "      <td>timestamp</td>\n",
       "      <td>0</td>\n",
       "    </tr>\n",
       "    <tr>\n",
       "      <th>2</th>\n",
       "      <td>trans_feat_1</td>\n",
       "      <td>0</td>\n",
       "    </tr>\n",
       "    <tr>\n",
       "      <th>3</th>\n",
       "      <td>trans_feat_2</td>\n",
       "      <td>0</td>\n",
       "    </tr>\n",
       "    <tr>\n",
       "      <th>4</th>\n",
       "      <td>trans_feat_3</td>\n",
       "      <td>0</td>\n",
       "    </tr>\n",
       "  </tbody>\n",
       "</table>\n",
       "</div>"
      ],
      "text/plain": [
       "          index  no.of missing values\n",
       "0          txid                     0\n",
       "1     timestamp                     0\n",
       "2  trans_feat_1                     0\n",
       "3  trans_feat_2                     0\n",
       "4  trans_feat_3                     0"
      ]
     },
     "execution_count": 21,
     "metadata": {},
     "output_type": "execute_result"
    }
   ],
   "source": [
    "df_merge_missing = df_merge.isna().sum().reset_index().rename(columns = {0:'no.of missing values'})\n",
    "df_merge_missing.head()"
   ]
  },
  {
   "cell_type": "code",
   "execution_count": 22,
   "id": "7b7a82fa",
   "metadata": {},
   "outputs": [
    {
     "data": {
      "text/plain": [
       "index                   0\n",
       "no.of missing values    0\n",
       "dtype: int64"
      ]
     },
     "execution_count": 22,
     "metadata": {},
     "output_type": "execute_result"
    }
   ],
   "source": [
    "df_merge_missing[df_merge_missing['no.of missing values']!=0].count()"
   ]
  },
  {
   "cell_type": "markdown",
   "id": "a75295d9",
   "metadata": {},
   "source": [
    "There are no missing values present in the merge data"
   ]
  },
  {
   "cell_type": "code",
   "execution_count": 23,
   "id": "547fe3e2",
   "metadata": {},
   "outputs": [
    {
     "data": {
      "image/png": "[encoded data removed]",
      "text/plain": [
       "<Figure size 640x480 with 1 Axes>"
      ]
     },
     "metadata": {},
     "output_type": "display_data"
    }
   ],
   "source": [
    "ilicit_ids = df_merge.loc[(df_merge['timestamp'] == 20) & (df_merge['class'] == '1'), 'txid']\n",
    "ilicit_edges = df_edgelist.loc[df_edgelist['txId1'].isin(ilicit_ids)]\n",
    "\n",
    "graph = nx.from_pandas_edgelist(ilicit_edges, source = 'txId1', target = 'txId2', )\n",
    "pos = nx.spring_layout(graph)\n",
    "nx.draw_networkx(graph, with_labels=True,pos=pos)"
   ]
  },
  {
   "cell_type": "code",
   "execution_count": 24,
   "id": "97299f4a",
   "metadata": {
    "scrolled": true
   },
   "outputs": [
    {
     "data": {
      "text/plain": [
       "array(['unknown', '2', '1'], dtype=object)"
      ]
     },
     "execution_count": 24,
     "metadata": {},
     "output_type": "execute_result"
    }
   ],
   "source": [
    "df_merge['class'].unique()"
   ]
  },
  {
   "cell_type": "code",
   "execution_count": 25,
   "id": "1b6be840",
   "metadata": {},
   "outputs": [
    {
     "data": {
      "text/plain": [
       "<AxesSubplot: title={'center': 'class feature'}>"
      ]
     },
     "execution_count": 25,
     "metadata": {},
     "output_type": "execute_result"
    },
    {
     "data": {
      "image/png": "[encoded data removed]",
      "text/plain": [
       "<Figure size 640x480 with 1 Axes>"
      ]
     },
     "metadata": {},
     "output_type": "display_data"
    }
   ],
   "source": [
    "df_merge['class'].value_counts().plot(kind = 'bar', title = 'class feature')\n",
    "# the unknown class have more than 140000 record. But for understanding purpose, I represnet in this way."
   ]
  },
  {
   "cell_type": "code",
   "execution_count": 26,
   "id": "f87e7d25",
   "metadata": {},
   "outputs": [
    {
     "name": "stdout",
     "output_type": "stream",
     "text": [
      "unknown percentage :0.77\n",
      "2 percentage :0.21\n",
      "1 percentage :0.02\n"
     ]
    }
   ],
   "source": [
    "for idx,cal in enumerate(df_merge['class'].unique()):\n",
    "    print(cal, 'percentage :%.2f' %(df_merge['class'].value_counts()[cal]/df_merge.shape[0]))"
   ]
  },
  {
   "cell_type": "markdown",
   "id": "aa3722c5",
   "metadata": {},
   "source": [
    "Here , we can observe that 77% of the data is Unlabled and the other 23% of the data is labled class1 (illicit) and labled class2 (illicit).So, first we need to perform with labled data."
   ]
  },
  {
   "cell_type": "code",
   "execution_count": 27,
   "id": "7ddb34d4",
   "metadata": {},
   "outputs": [
    {
     "data": {
      "text/html": [
       "<div>\n",
       "<style scoped>\n",
       "    .dataframe tbody tr th:only-of-type {\n",
       "        vertical-align: middle;\n",
       "    }\n",
       "\n",
       "    .dataframe tbody tr th {\n",
       "        vertical-align: top;\n",
       "    }\n",
       "\n",
       "    .dataframe thead th {\n",
       "        text-align: right;\n",
       "    }\n",
       "</style>\n",
       "<table border=\"1\" class=\"dataframe\">\n",
       "  <thead>\n",
       "    <tr style=\"text-align: right;\">\n",
       "      <th></th>\n",
       "      <th>txid</th>\n",
       "      <th>timestamp</th>\n",
       "      <th>trans_feat_1</th>\n",
       "      <th>trans_feat_2</th>\n",
       "      <th>trans_feat_3</th>\n",
       "      <th>trans_feat_4</th>\n",
       "      <th>trans_feat_5</th>\n",
       "      <th>trans_feat_6</th>\n",
       "      <th>trans_feat_7</th>\n",
       "      <th>trans_feat_8</th>\n",
       "      <th>...</th>\n",
       "      <th>aggre_feat_64</th>\n",
       "      <th>aggre_feat_65</th>\n",
       "      <th>aggre_feat_66</th>\n",
       "      <th>aggre_feat_67</th>\n",
       "      <th>aggre_feat_68</th>\n",
       "      <th>aggre_feat_69</th>\n",
       "      <th>aggre_feat_70</th>\n",
       "      <th>aggre_feat_71</th>\n",
       "      <th>aggre_feat_72</th>\n",
       "      <th>class</th>\n",
       "    </tr>\n",
       "  </thead>\n",
       "  <tbody>\n",
       "    <tr>\n",
       "      <th>3</th>\n",
       "      <td>232438397</td>\n",
       "      <td>1</td>\n",
       "      <td>0.163054</td>\n",
       "      <td>1.963790</td>\n",
       "      <td>-0.646376</td>\n",
       "      <td>12.409294</td>\n",
       "      <td>-0.063725</td>\n",
       "      <td>9.782742</td>\n",
       "      <td>12.414558</td>\n",
       "      <td>-0.163645</td>\n",
       "      <td>...</td>\n",
       "      <td>-0.613614</td>\n",
       "      <td>0.241128</td>\n",
       "      <td>0.241406</td>\n",
       "      <td>1.072793</td>\n",
       "      <td>0.085530</td>\n",
       "      <td>-0.131155</td>\n",
       "      <td>0.677799</td>\n",
       "      <td>-0.120613</td>\n",
       "      <td>-0.119792</td>\n",
       "      <td>2</td>\n",
       "    </tr>\n",
       "    <tr>\n",
       "      <th>9</th>\n",
       "      <td>232029206</td>\n",
       "      <td>1</td>\n",
       "      <td>-0.005027</td>\n",
       "      <td>0.578941</td>\n",
       "      <td>-0.091383</td>\n",
       "      <td>4.380281</td>\n",
       "      <td>-0.063725</td>\n",
       "      <td>4.667146</td>\n",
       "      <td>0.851305</td>\n",
       "      <td>-0.163645</td>\n",
       "      <td>...</td>\n",
       "      <td>-0.613614</td>\n",
       "      <td>0.241128</td>\n",
       "      <td>0.241406</td>\n",
       "      <td>0.604120</td>\n",
       "      <td>0.008632</td>\n",
       "      <td>-0.131155</td>\n",
       "      <td>0.333211</td>\n",
       "      <td>-0.120613</td>\n",
       "      <td>-0.119792</td>\n",
       "      <td>2</td>\n",
       "    </tr>\n",
       "    <tr>\n",
       "      <th>10</th>\n",
       "      <td>232344069</td>\n",
       "      <td>1</td>\n",
       "      <td>-0.147852</td>\n",
       "      <td>-0.184668</td>\n",
       "      <td>-1.201369</td>\n",
       "      <td>-0.121970</td>\n",
       "      <td>-0.043875</td>\n",
       "      <td>-0.113002</td>\n",
       "      <td>-0.061584</td>\n",
       "      <td>-0.137933</td>\n",
       "      <td>...</td>\n",
       "      <td>-0.613614</td>\n",
       "      <td>0.241128</td>\n",
       "      <td>0.241406</td>\n",
       "      <td>0.018279</td>\n",
       "      <td>-0.087490</td>\n",
       "      <td>-0.131155</td>\n",
       "      <td>-0.097524</td>\n",
       "      <td>-0.120613</td>\n",
       "      <td>-0.119792</td>\n",
       "      <td>2</td>\n",
       "    </tr>\n",
       "    <tr>\n",
       "      <th>11</th>\n",
       "      <td>27553029</td>\n",
       "      <td>1</td>\n",
       "      <td>-0.151357</td>\n",
       "      <td>-0.184668</td>\n",
       "      <td>-1.201369</td>\n",
       "      <td>-0.121970</td>\n",
       "      <td>-0.043875</td>\n",
       "      <td>-0.113002</td>\n",
       "      <td>-0.061584</td>\n",
       "      <td>-0.141519</td>\n",
       "      <td>...</td>\n",
       "      <td>-0.582077</td>\n",
       "      <td>-0.979074</td>\n",
       "      <td>-0.978556</td>\n",
       "      <td>0.018279</td>\n",
       "      <td>-0.087490</td>\n",
       "      <td>-0.131155</td>\n",
       "      <td>-0.097524</td>\n",
       "      <td>-0.120613</td>\n",
       "      <td>-0.119792</td>\n",
       "      <td>2</td>\n",
       "    </tr>\n",
       "    <tr>\n",
       "      <th>16</th>\n",
       "      <td>3881097</td>\n",
       "      <td>1</td>\n",
       "      <td>-0.172306</td>\n",
       "      <td>-0.184668</td>\n",
       "      <td>-1.201369</td>\n",
       "      <td>0.028105</td>\n",
       "      <td>-0.043875</td>\n",
       "      <td>-0.029140</td>\n",
       "      <td>0.242712</td>\n",
       "      <td>-0.163640</td>\n",
       "      <td>...</td>\n",
       "      <td>-0.600999</td>\n",
       "      <td>0.241128</td>\n",
       "      <td>0.241406</td>\n",
       "      <td>0.018279</td>\n",
       "      <td>-0.068266</td>\n",
       "      <td>-0.084674</td>\n",
       "      <td>-0.054450</td>\n",
       "      <td>-1.760926</td>\n",
       "      <td>-1.760984</td>\n",
       "      <td>2</td>\n",
       "    </tr>\n",
       "  </tbody>\n",
       "</table>\n",
       "<p>5 rows × 168 columns</p>\n",
       "</div>"
      ],
      "text/plain": [
       "         txid  timestamp  trans_feat_1  trans_feat_2  trans_feat_3  \\\n",
       "3   232438397          1      0.163054      1.963790     -0.646376   \n",
       "9   232029206          1     -0.005027      0.578941     -0.091383   \n",
       "10  232344069          1     -0.147852     -0.184668     -1.201369   \n",
       "11   27553029          1     -0.151357     -0.184668     -1.201369   \n",
       "16    3881097          1     -0.172306     -0.184668     -1.201369   \n",
       "\n",
       "    trans_feat_4  trans_feat_5  trans_feat_6  trans_feat_7  trans_feat_8  ...  \\\n",
       "3      12.409294     -0.063725      9.782742     12.414558     -0.163645  ...   \n",
       "9       4.380281     -0.063725      4.667146      0.851305     -0.163645  ...   \n",
       "10     -0.121970     -0.043875     -0.113002     -0.061584     -0.137933  ...   \n",
       "11     -0.121970     -0.043875     -0.113002     -0.061584     -0.141519  ...   \n",
       "16      0.028105     -0.043875     -0.029140      0.242712     -0.163640  ...   \n",
       "\n",
       "    aggre_feat_64  aggre_feat_65  aggre_feat_66  aggre_feat_67  aggre_feat_68  \\\n",
       "3       -0.613614       0.241128       0.241406       1.072793       0.085530   \n",
       "9       -0.613614       0.241128       0.241406       0.604120       0.008632   \n",
       "10      -0.613614       0.241128       0.241406       0.018279      -0.087490   \n",
       "11      -0.582077      -0.979074      -0.978556       0.018279      -0.087490   \n",
       "16      -0.600999       0.241128       0.241406       0.018279      -0.068266   \n",
       "\n",
       "    aggre_feat_69  aggre_feat_70  aggre_feat_71  aggre_feat_72  class  \n",
       "3       -0.131155       0.677799      -0.120613      -0.119792      2  \n",
       "9       -0.131155       0.333211      -0.120613      -0.119792      2  \n",
       "10      -0.131155      -0.097524      -0.120613      -0.119792      2  \n",
       "11      -0.131155      -0.097524      -0.120613      -0.119792      2  \n",
       "16      -0.084674      -0.054450      -1.760926      -1.760984      2  \n",
       "\n",
       "[5 rows x 168 columns]"
      ]
     },
     "execution_count": 27,
     "metadata": {},
     "output_type": "execute_result"
    }
   ],
   "source": [
    "#save this labled data to store on mongodb database\n",
    "df_save_labled = df_merge[df_merge['class']!=\"unknown\"]\n",
    "df_save_labled.head()"
   ]
  },
  {
   "cell_type": "code",
   "execution_count": 28,
   "id": "64cb660c",
   "metadata": {},
   "outputs": [
    {
     "data": {
      "text/plain": [
       "(46564, 168)"
      ]
     },
     "execution_count": 28,
     "metadata": {},
     "output_type": "execute_result"
    }
   ],
   "source": [
    "df_save_labled.shape"
   ]
  },
  {
   "cell_type": "code",
   "execution_count": 29,
   "id": "2e8e39be",
   "metadata": {},
   "outputs": [],
   "source": [
    "#df_save_labled.to_csv(\"labled_data.csv\",index = False)"
   ]
  },
  {
   "cell_type": "code",
   "execution_count": 30,
   "id": "388f4353",
   "metadata": {
    "scrolled": false
   },
   "outputs": [
    {
     "data": {
      "text/html": [
       "<div>\n",
       "<style scoped>\n",
       "    .dataframe tbody tr th:only-of-type {\n",
       "        vertical-align: middle;\n",
       "    }\n",
       "\n",
       "    .dataframe tbody tr th {\n",
       "        vertical-align: top;\n",
       "    }\n",
       "\n",
       "    .dataframe thead th {\n",
       "        text-align: right;\n",
       "    }\n",
       "</style>\n",
       "<table border=\"1\" class=\"dataframe\">\n",
       "  <thead>\n",
       "    <tr style=\"text-align: right;\">\n",
       "      <th></th>\n",
       "      <th>txid</th>\n",
       "      <th>timestamp</th>\n",
       "      <th>trans_feat_1</th>\n",
       "      <th>trans_feat_2</th>\n",
       "      <th>trans_feat_3</th>\n",
       "      <th>trans_feat_4</th>\n",
       "      <th>trans_feat_5</th>\n",
       "      <th>trans_feat_6</th>\n",
       "      <th>trans_feat_7</th>\n",
       "      <th>trans_feat_8</th>\n",
       "      <th>...</th>\n",
       "      <th>aggre_feat_64</th>\n",
       "      <th>aggre_feat_65</th>\n",
       "      <th>aggre_feat_66</th>\n",
       "      <th>aggre_feat_67</th>\n",
       "      <th>aggre_feat_68</th>\n",
       "      <th>aggre_feat_69</th>\n",
       "      <th>aggre_feat_70</th>\n",
       "      <th>aggre_feat_71</th>\n",
       "      <th>aggre_feat_72</th>\n",
       "      <th>class</th>\n",
       "    </tr>\n",
       "  </thead>\n",
       "  <tbody>\n",
       "    <tr>\n",
       "      <th>0</th>\n",
       "      <td>230425980</td>\n",
       "      <td>1</td>\n",
       "      <td>-0.171469</td>\n",
       "      <td>-0.184668</td>\n",
       "      <td>-1.201369</td>\n",
       "      <td>-0.121970</td>\n",
       "      <td>-0.043875</td>\n",
       "      <td>-0.113002</td>\n",
       "      <td>-0.061584</td>\n",
       "      <td>-0.162097</td>\n",
       "      <td>...</td>\n",
       "      <td>-0.600999</td>\n",
       "      <td>1.461330</td>\n",
       "      <td>1.461369</td>\n",
       "      <td>0.018279</td>\n",
       "      <td>-0.087490</td>\n",
       "      <td>-0.131155</td>\n",
       "      <td>-0.097524</td>\n",
       "      <td>-0.120613</td>\n",
       "      <td>-0.119792</td>\n",
       "      <td>2</td>\n",
       "    </tr>\n",
       "    <tr>\n",
       "      <th>1</th>\n",
       "      <td>5530458</td>\n",
       "      <td>1</td>\n",
       "      <td>-0.171484</td>\n",
       "      <td>-0.184668</td>\n",
       "      <td>-1.201369</td>\n",
       "      <td>-0.121970</td>\n",
       "      <td>-0.043875</td>\n",
       "      <td>-0.113002</td>\n",
       "      <td>-0.061584</td>\n",
       "      <td>-0.162112</td>\n",
       "      <td>...</td>\n",
       "      <td>0.673103</td>\n",
       "      <td>-0.979074</td>\n",
       "      <td>-0.978556</td>\n",
       "      <td>0.018279</td>\n",
       "      <td>-0.087490</td>\n",
       "      <td>-0.131155</td>\n",
       "      <td>-0.097524</td>\n",
       "      <td>-0.120613</td>\n",
       "      <td>-0.119792</td>\n",
       "      <td>2</td>\n",
       "    </tr>\n",
       "    <tr>\n",
       "      <th>2</th>\n",
       "      <td>232022460</td>\n",
       "      <td>1</td>\n",
       "      <td>-0.172107</td>\n",
       "      <td>-0.184668</td>\n",
       "      <td>-1.201369</td>\n",
       "      <td>-0.121970</td>\n",
       "      <td>-0.043875</td>\n",
       "      <td>-0.113002</td>\n",
       "      <td>-0.061584</td>\n",
       "      <td>-0.162749</td>\n",
       "      <td>...</td>\n",
       "      <td>0.439728</td>\n",
       "      <td>-0.979074</td>\n",
       "      <td>-0.978556</td>\n",
       "      <td>-0.098889</td>\n",
       "      <td>-0.106715</td>\n",
       "      <td>-0.131155</td>\n",
       "      <td>-0.183671</td>\n",
       "      <td>-0.120613</td>\n",
       "      <td>-0.119792</td>\n",
       "      <td>2</td>\n",
       "    </tr>\n",
       "    <tr>\n",
       "      <th>3</th>\n",
       "      <td>232438397</td>\n",
       "      <td>1</td>\n",
       "      <td>0.163054</td>\n",
       "      <td>1.963790</td>\n",
       "      <td>-0.646376</td>\n",
       "      <td>12.409294</td>\n",
       "      <td>-0.063725</td>\n",
       "      <td>9.782742</td>\n",
       "      <td>12.414558</td>\n",
       "      <td>-0.163645</td>\n",
       "      <td>...</td>\n",
       "      <td>-0.613614</td>\n",
       "      <td>0.241128</td>\n",
       "      <td>0.241406</td>\n",
       "      <td>1.072793</td>\n",
       "      <td>0.085530</td>\n",
       "      <td>-0.131155</td>\n",
       "      <td>0.677799</td>\n",
       "      <td>-0.120613</td>\n",
       "      <td>-0.119792</td>\n",
       "      <td>0</td>\n",
       "    </tr>\n",
       "    <tr>\n",
       "      <th>4</th>\n",
       "      <td>230460314</td>\n",
       "      <td>1</td>\n",
       "      <td>1.011523</td>\n",
       "      <td>-0.081127</td>\n",
       "      <td>-1.201369</td>\n",
       "      <td>1.153668</td>\n",
       "      <td>0.333276</td>\n",
       "      <td>1.312656</td>\n",
       "      <td>-0.061584</td>\n",
       "      <td>-0.163523</td>\n",
       "      <td>...</td>\n",
       "      <td>-0.400422</td>\n",
       "      <td>0.517257</td>\n",
       "      <td>0.579382</td>\n",
       "      <td>0.018279</td>\n",
       "      <td>0.277775</td>\n",
       "      <td>0.326394</td>\n",
       "      <td>1.293750</td>\n",
       "      <td>0.178136</td>\n",
       "      <td>0.179117</td>\n",
       "      <td>2</td>\n",
       "    </tr>\n",
       "  </tbody>\n",
       "</table>\n",
       "<p>5 rows × 168 columns</p>\n",
       "</div>"
      ],
      "text/plain": [
       "        txid  timestamp  trans_feat_1  trans_feat_2  trans_feat_3  \\\n",
       "0  230425980          1     -0.171469     -0.184668     -1.201369   \n",
       "1    5530458          1     -0.171484     -0.184668     -1.201369   \n",
       "2  232022460          1     -0.172107     -0.184668     -1.201369   \n",
       "3  232438397          1      0.163054      1.963790     -0.646376   \n",
       "4  230460314          1      1.011523     -0.081127     -1.201369   \n",
       "\n",
       "   trans_feat_4  trans_feat_5  trans_feat_6  trans_feat_7  trans_feat_8  ...  \\\n",
       "0     -0.121970     -0.043875     -0.113002     -0.061584     -0.162097  ...   \n",
       "1     -0.121970     -0.043875     -0.113002     -0.061584     -0.162112  ...   \n",
       "2     -0.121970     -0.043875     -0.113002     -0.061584     -0.162749  ...   \n",
       "3     12.409294     -0.063725      9.782742     12.414558     -0.163645  ...   \n",
       "4      1.153668      0.333276      1.312656     -0.061584     -0.163523  ...   \n",
       "\n",
       "   aggre_feat_64  aggre_feat_65  aggre_feat_66  aggre_feat_67  aggre_feat_68  \\\n",
       "0      -0.600999       1.461330       1.461369       0.018279      -0.087490   \n",
       "1       0.673103      -0.979074      -0.978556       0.018279      -0.087490   \n",
       "2       0.439728      -0.979074      -0.978556      -0.098889      -0.106715   \n",
       "3      -0.613614       0.241128       0.241406       1.072793       0.085530   \n",
       "4      -0.400422       0.517257       0.579382       0.018279       0.277775   \n",
       "\n",
       "   aggre_feat_69  aggre_feat_70  aggre_feat_71  aggre_feat_72  class  \n",
       "0      -0.131155      -0.097524      -0.120613      -0.119792      2  \n",
       "1      -0.131155      -0.097524      -0.120613      -0.119792      2  \n",
       "2      -0.131155      -0.183671      -0.120613      -0.119792      2  \n",
       "3      -0.131155       0.677799      -0.120613      -0.119792      0  \n",
       "4       0.326394       1.293750       0.178136       0.179117      2  \n",
       "\n",
       "[5 rows x 168 columns]"
      ]
     },
     "execution_count": 30,
     "metadata": {},
     "output_type": "execute_result"
    }
   ],
   "source": [
    "# Converting the categorical feature into numerical feature\n",
    "df_merge['class'] = df_merge['class'].replace({'unknown':2,'2':0,'1':1})\n",
    "df_merge.head()"
   ]
  },
  {
   "cell_type": "code",
   "execution_count": 31,
   "id": "8d3ad537",
   "metadata": {
    "scrolled": true
   },
   "outputs": [
    {
     "data": {
      "text/html": [
       "<div>\n",
       "<style scoped>\n",
       "    .dataframe tbody tr th:only-of-type {\n",
       "        vertical-align: middle;\n",
       "    }\n",
       "\n",
       "    .dataframe tbody tr th {\n",
       "        vertical-align: top;\n",
       "    }\n",
       "\n",
       "    .dataframe thead th {\n",
       "        text-align: right;\n",
       "    }\n",
       "</style>\n",
       "<table border=\"1\" class=\"dataframe\">\n",
       "  <thead>\n",
       "    <tr style=\"text-align: right;\">\n",
       "      <th></th>\n",
       "      <th>txid</th>\n",
       "      <th>timestamp</th>\n",
       "      <th>trans_feat_1</th>\n",
       "      <th>trans_feat_2</th>\n",
       "      <th>trans_feat_3</th>\n",
       "      <th>trans_feat_4</th>\n",
       "      <th>trans_feat_5</th>\n",
       "      <th>trans_feat_6</th>\n",
       "      <th>trans_feat_7</th>\n",
       "      <th>trans_feat_8</th>\n",
       "      <th>...</th>\n",
       "      <th>aggre_feat_64</th>\n",
       "      <th>aggre_feat_65</th>\n",
       "      <th>aggre_feat_66</th>\n",
       "      <th>aggre_feat_67</th>\n",
       "      <th>aggre_feat_68</th>\n",
       "      <th>aggre_feat_69</th>\n",
       "      <th>aggre_feat_70</th>\n",
       "      <th>aggre_feat_71</th>\n",
       "      <th>aggre_feat_72</th>\n",
       "      <th>class</th>\n",
       "    </tr>\n",
       "  </thead>\n",
       "  <tbody>\n",
       "    <tr>\n",
       "      <th>3</th>\n",
       "      <td>232438397</td>\n",
       "      <td>1</td>\n",
       "      <td>0.163054</td>\n",
       "      <td>1.963790</td>\n",
       "      <td>-0.646376</td>\n",
       "      <td>12.409294</td>\n",
       "      <td>-0.063725</td>\n",
       "      <td>9.782742</td>\n",
       "      <td>12.414558</td>\n",
       "      <td>-0.163645</td>\n",
       "      <td>...</td>\n",
       "      <td>-0.613614</td>\n",
       "      <td>0.241128</td>\n",
       "      <td>0.241406</td>\n",
       "      <td>1.072793</td>\n",
       "      <td>0.085530</td>\n",
       "      <td>-0.131155</td>\n",
       "      <td>0.677799</td>\n",
       "      <td>-0.120613</td>\n",
       "      <td>-0.119792</td>\n",
       "      <td>0</td>\n",
       "    </tr>\n",
       "    <tr>\n",
       "      <th>9</th>\n",
       "      <td>232029206</td>\n",
       "      <td>1</td>\n",
       "      <td>-0.005027</td>\n",
       "      <td>0.578941</td>\n",
       "      <td>-0.091383</td>\n",
       "      <td>4.380281</td>\n",
       "      <td>-0.063725</td>\n",
       "      <td>4.667146</td>\n",
       "      <td>0.851305</td>\n",
       "      <td>-0.163645</td>\n",
       "      <td>...</td>\n",
       "      <td>-0.613614</td>\n",
       "      <td>0.241128</td>\n",
       "      <td>0.241406</td>\n",
       "      <td>0.604120</td>\n",
       "      <td>0.008632</td>\n",
       "      <td>-0.131155</td>\n",
       "      <td>0.333211</td>\n",
       "      <td>-0.120613</td>\n",
       "      <td>-0.119792</td>\n",
       "      <td>0</td>\n",
       "    </tr>\n",
       "    <tr>\n",
       "      <th>10</th>\n",
       "      <td>232344069</td>\n",
       "      <td>1</td>\n",
       "      <td>-0.147852</td>\n",
       "      <td>-0.184668</td>\n",
       "      <td>-1.201369</td>\n",
       "      <td>-0.121970</td>\n",
       "      <td>-0.043875</td>\n",
       "      <td>-0.113002</td>\n",
       "      <td>-0.061584</td>\n",
       "      <td>-0.137933</td>\n",
       "      <td>...</td>\n",
       "      <td>-0.613614</td>\n",
       "      <td>0.241128</td>\n",
       "      <td>0.241406</td>\n",
       "      <td>0.018279</td>\n",
       "      <td>-0.087490</td>\n",
       "      <td>-0.131155</td>\n",
       "      <td>-0.097524</td>\n",
       "      <td>-0.120613</td>\n",
       "      <td>-0.119792</td>\n",
       "      <td>0</td>\n",
       "    </tr>\n",
       "    <tr>\n",
       "      <th>11</th>\n",
       "      <td>27553029</td>\n",
       "      <td>1</td>\n",
       "      <td>-0.151357</td>\n",
       "      <td>-0.184668</td>\n",
       "      <td>-1.201369</td>\n",
       "      <td>-0.121970</td>\n",
       "      <td>-0.043875</td>\n",
       "      <td>-0.113002</td>\n",
       "      <td>-0.061584</td>\n",
       "      <td>-0.141519</td>\n",
       "      <td>...</td>\n",
       "      <td>-0.582077</td>\n",
       "      <td>-0.979074</td>\n",
       "      <td>-0.978556</td>\n",
       "      <td>0.018279</td>\n",
       "      <td>-0.087490</td>\n",
       "      <td>-0.131155</td>\n",
       "      <td>-0.097524</td>\n",
       "      <td>-0.120613</td>\n",
       "      <td>-0.119792</td>\n",
       "      <td>0</td>\n",
       "    </tr>\n",
       "    <tr>\n",
       "      <th>16</th>\n",
       "      <td>3881097</td>\n",
       "      <td>1</td>\n",
       "      <td>-0.172306</td>\n",
       "      <td>-0.184668</td>\n",
       "      <td>-1.201369</td>\n",
       "      <td>0.028105</td>\n",
       "      <td>-0.043875</td>\n",
       "      <td>-0.029140</td>\n",
       "      <td>0.242712</td>\n",
       "      <td>-0.163640</td>\n",
       "      <td>...</td>\n",
       "      <td>-0.600999</td>\n",
       "      <td>0.241128</td>\n",
       "      <td>0.241406</td>\n",
       "      <td>0.018279</td>\n",
       "      <td>-0.068266</td>\n",
       "      <td>-0.084674</td>\n",
       "      <td>-0.054450</td>\n",
       "      <td>-1.760926</td>\n",
       "      <td>-1.760984</td>\n",
       "      <td>0</td>\n",
       "    </tr>\n",
       "  </tbody>\n",
       "</table>\n",
       "<p>5 rows × 168 columns</p>\n",
       "</div>"
      ],
      "text/plain": [
       "         txid  timestamp  trans_feat_1  trans_feat_2  trans_feat_3  \\\n",
       "3   232438397          1      0.163054      1.963790     -0.646376   \n",
       "9   232029206          1     -0.005027      0.578941     -0.091383   \n",
       "10  232344069          1     -0.147852     -0.184668     -1.201369   \n",
       "11   27553029          1     -0.151357     -0.184668     -1.201369   \n",
       "16    3881097          1     -0.172306     -0.184668     -1.201369   \n",
       "\n",
       "    trans_feat_4  trans_feat_5  trans_feat_6  trans_feat_7  trans_feat_8  ...  \\\n",
       "3      12.409294     -0.063725      9.782742     12.414558     -0.163645  ...   \n",
       "9       4.380281     -0.063725      4.667146      0.851305     -0.163645  ...   \n",
       "10     -0.121970     -0.043875     -0.113002     -0.061584     -0.137933  ...   \n",
       "11     -0.121970     -0.043875     -0.113002     -0.061584     -0.141519  ...   \n",
       "16      0.028105     -0.043875     -0.029140      0.242712     -0.163640  ...   \n",
       "\n",
       "    aggre_feat_64  aggre_feat_65  aggre_feat_66  aggre_feat_67  aggre_feat_68  \\\n",
       "3       -0.613614       0.241128       0.241406       1.072793       0.085530   \n",
       "9       -0.613614       0.241128       0.241406       0.604120       0.008632   \n",
       "10      -0.613614       0.241128       0.241406       0.018279      -0.087490   \n",
       "11      -0.582077      -0.979074      -0.978556       0.018279      -0.087490   \n",
       "16      -0.600999       0.241128       0.241406       0.018279      -0.068266   \n",
       "\n",
       "    aggre_feat_69  aggre_feat_70  aggre_feat_71  aggre_feat_72  class  \n",
       "3       -0.131155       0.677799      -0.120613      -0.119792      0  \n",
       "9       -0.131155       0.333211      -0.120613      -0.119792      0  \n",
       "10      -0.131155      -0.097524      -0.120613      -0.119792      0  \n",
       "11      -0.131155      -0.097524      -0.120613      -0.119792      0  \n",
       "16      -0.084674      -0.054450      -1.760926      -1.760984      0  \n",
       "\n",
       "[5 rows x 168 columns]"
      ]
     },
     "execution_count": 31,
     "metadata": {},
     "output_type": "execute_result"
    }
   ],
   "source": [
    "#labled data\n",
    "df_labled = df_merge[df_merge['class']!=2]\n",
    "df_labled.head()"
   ]
  },
  {
   "cell_type": "code",
   "execution_count": 32,
   "id": "621da534",
   "metadata": {},
   "outputs": [
    {
     "data": {
      "text/plain": [
       "(46564, 168)"
      ]
     },
     "execution_count": 32,
     "metadata": {},
     "output_type": "execute_result"
    }
   ],
   "source": [
    "df_labled.shape"
   ]
  },
  {
   "cell_type": "code",
   "execution_count": 33,
   "id": "4079159d",
   "metadata": {},
   "outputs": [
    {
     "data": {
      "text/plain": [
       "array([0, 1], dtype=int64)"
      ]
     },
     "execution_count": 33,
     "metadata": {},
     "output_type": "execute_result"
    }
   ],
   "source": [
    "df_labled['class'].unique()"
   ]
  },
  {
   "cell_type": "code",
   "execution_count": 34,
   "id": "dbbf54e7",
   "metadata": {},
   "outputs": [
    {
     "data": {
      "text/plain": [
       "<AxesSubplot: title={'center': 'labled imbalance data'}>"
      ]
     },
     "execution_count": 34,
     "metadata": {},
     "output_type": "execute_result"
    },
    {
     "data": {
      "image/png": "[encoded data removed]",
      "text/plain": [
       "<Figure size 640x480 with 1 Axes>"
      ]
     },
     "metadata": {},
     "output_type": "display_data"
    }
   ],
   "source": [
    "df_labled['class'].value_counts().plot(kind = 'bar',title = 'labled imbalance data')"
   ]
  },
  {
   "cell_type": "code",
   "execution_count": 35,
   "id": "392366fb",
   "metadata": {},
   "outputs": [
    {
     "data": {
      "text/plain": [
       "0    42019\n",
       "1     4545\n",
       "Name: class, dtype: int64"
      ]
     },
     "execution_count": 35,
     "metadata": {},
     "output_type": "execute_result"
    }
   ],
   "source": [
    "df_labled['class'].value_counts()"
   ]
  },
  {
   "cell_type": "code",
   "execution_count": 36,
   "id": "eeeec200",
   "metadata": {},
   "outputs": [
    {
     "data": {
      "text/html": [
       "<div>\n",
       "<style scoped>\n",
       "    .dataframe tbody tr th:only-of-type {\n",
       "        vertical-align: middle;\n",
       "    }\n",
       "\n",
       "    .dataframe tbody tr th {\n",
       "        vertical-align: top;\n",
       "    }\n",
       "\n",
       "    .dataframe thead th {\n",
       "        text-align: right;\n",
       "    }\n",
       "</style>\n",
       "<table border=\"1\" class=\"dataframe\">\n",
       "  <thead>\n",
       "    <tr style=\"text-align: right;\">\n",
       "      <th></th>\n",
       "      <th>timestamp</th>\n",
       "      <th>trans_feat_1</th>\n",
       "      <th>trans_feat_2</th>\n",
       "      <th>trans_feat_3</th>\n",
       "      <th>trans_feat_4</th>\n",
       "      <th>trans_feat_5</th>\n",
       "      <th>trans_feat_6</th>\n",
       "      <th>trans_feat_7</th>\n",
       "      <th>trans_feat_8</th>\n",
       "      <th>trans_feat_9</th>\n",
       "      <th>...</th>\n",
       "      <th>aggre_feat_63</th>\n",
       "      <th>aggre_feat_64</th>\n",
       "      <th>aggre_feat_65</th>\n",
       "      <th>aggre_feat_66</th>\n",
       "      <th>aggre_feat_67</th>\n",
       "      <th>aggre_feat_68</th>\n",
       "      <th>aggre_feat_69</th>\n",
       "      <th>aggre_feat_70</th>\n",
       "      <th>aggre_feat_71</th>\n",
       "      <th>aggre_feat_72</th>\n",
       "    </tr>\n",
       "  </thead>\n",
       "  <tbody>\n",
       "    <tr>\n",
       "      <th>3</th>\n",
       "      <td>1</td>\n",
       "      <td>0.163054</td>\n",
       "      <td>1.963790</td>\n",
       "      <td>-0.646376</td>\n",
       "      <td>12.409294</td>\n",
       "      <td>-0.063725</td>\n",
       "      <td>9.782742</td>\n",
       "      <td>12.414558</td>\n",
       "      <td>-0.163645</td>\n",
       "      <td>-0.115831</td>\n",
       "      <td>...</td>\n",
       "      <td>-0.577099</td>\n",
       "      <td>-0.613614</td>\n",
       "      <td>0.241128</td>\n",
       "      <td>0.241406</td>\n",
       "      <td>1.072793</td>\n",
       "      <td>0.085530</td>\n",
       "      <td>-0.131155</td>\n",
       "      <td>0.677799</td>\n",
       "      <td>-0.120613</td>\n",
       "      <td>-0.119792</td>\n",
       "    </tr>\n",
       "    <tr>\n",
       "      <th>9</th>\n",
       "      <td>1</td>\n",
       "      <td>-0.005027</td>\n",
       "      <td>0.578941</td>\n",
       "      <td>-0.091383</td>\n",
       "      <td>4.380281</td>\n",
       "      <td>-0.063725</td>\n",
       "      <td>4.667146</td>\n",
       "      <td>0.851305</td>\n",
       "      <td>-0.163645</td>\n",
       "      <td>-0.144554</td>\n",
       "      <td>...</td>\n",
       "      <td>-0.577099</td>\n",
       "      <td>-0.613614</td>\n",
       "      <td>0.241128</td>\n",
       "      <td>0.241406</td>\n",
       "      <td>0.604120</td>\n",
       "      <td>0.008632</td>\n",
       "      <td>-0.131155</td>\n",
       "      <td>0.333211</td>\n",
       "      <td>-0.120613</td>\n",
       "      <td>-0.119792</td>\n",
       "    </tr>\n",
       "    <tr>\n",
       "      <th>10</th>\n",
       "      <td>1</td>\n",
       "      <td>-0.147852</td>\n",
       "      <td>-0.184668</td>\n",
       "      <td>-1.201369</td>\n",
       "      <td>-0.121970</td>\n",
       "      <td>-0.043875</td>\n",
       "      <td>-0.113002</td>\n",
       "      <td>-0.061584</td>\n",
       "      <td>-0.137933</td>\n",
       "      <td>-0.144108</td>\n",
       "      <td>...</td>\n",
       "      <td>-0.577099</td>\n",
       "      <td>-0.613614</td>\n",
       "      <td>0.241128</td>\n",
       "      <td>0.241406</td>\n",
       "      <td>0.018279</td>\n",
       "      <td>-0.087490</td>\n",
       "      <td>-0.131155</td>\n",
       "      <td>-0.097524</td>\n",
       "      <td>-0.120613</td>\n",
       "      <td>-0.119792</td>\n",
       "    </tr>\n",
       "    <tr>\n",
       "      <th>11</th>\n",
       "      <td>1</td>\n",
       "      <td>-0.151357</td>\n",
       "      <td>-0.184668</td>\n",
       "      <td>-1.201369</td>\n",
       "      <td>-0.121970</td>\n",
       "      <td>-0.043875</td>\n",
       "      <td>-0.113002</td>\n",
       "      <td>-0.061584</td>\n",
       "      <td>-0.141519</td>\n",
       "      <td>-0.147643</td>\n",
       "      <td>...</td>\n",
       "      <td>-0.539735</td>\n",
       "      <td>-0.582077</td>\n",
       "      <td>-0.979074</td>\n",
       "      <td>-0.978556</td>\n",
       "      <td>0.018279</td>\n",
       "      <td>-0.087490</td>\n",
       "      <td>-0.131155</td>\n",
       "      <td>-0.097524</td>\n",
       "      <td>-0.120613</td>\n",
       "      <td>-0.119792</td>\n",
       "    </tr>\n",
       "    <tr>\n",
       "      <th>16</th>\n",
       "      <td>1</td>\n",
       "      <td>-0.172306</td>\n",
       "      <td>-0.184668</td>\n",
       "      <td>-1.201369</td>\n",
       "      <td>0.028105</td>\n",
       "      <td>-0.043875</td>\n",
       "      <td>-0.029140</td>\n",
       "      <td>0.242712</td>\n",
       "      <td>-0.163640</td>\n",
       "      <td>-0.169115</td>\n",
       "      <td>...</td>\n",
       "      <td>-0.577099</td>\n",
       "      <td>-0.600999</td>\n",
       "      <td>0.241128</td>\n",
       "      <td>0.241406</td>\n",
       "      <td>0.018279</td>\n",
       "      <td>-0.068266</td>\n",
       "      <td>-0.084674</td>\n",
       "      <td>-0.054450</td>\n",
       "      <td>-1.760926</td>\n",
       "      <td>-1.760984</td>\n",
       "    </tr>\n",
       "  </tbody>\n",
       "</table>\n",
       "<p>5 rows × 166 columns</p>\n",
       "</div>"
      ],
      "text/plain": [
       "    timestamp  trans_feat_1  trans_feat_2  trans_feat_3  trans_feat_4  \\\n",
       "3           1      0.163054      1.963790     -0.646376     12.409294   \n",
       "9           1     -0.005027      0.578941     -0.091383      4.380281   \n",
       "10          1     -0.147852     -0.184668     -1.201369     -0.121970   \n",
       "11          1     -0.151357     -0.184668     -1.201369     -0.121970   \n",
       "16          1     -0.172306     -0.184668     -1.201369      0.028105   \n",
       "\n",
       "    trans_feat_5  trans_feat_6  trans_feat_7  trans_feat_8  trans_feat_9  ...  \\\n",
       "3      -0.063725      9.782742     12.414558     -0.163645     -0.115831  ...   \n",
       "9      -0.063725      4.667146      0.851305     -0.163645     -0.144554  ...   \n",
       "10     -0.043875     -0.113002     -0.061584     -0.137933     -0.144108  ...   \n",
       "11     -0.043875     -0.113002     -0.061584     -0.141519     -0.147643  ...   \n",
       "16     -0.043875     -0.029140      0.242712     -0.163640     -0.169115  ...   \n",
       "\n",
       "    aggre_feat_63  aggre_feat_64  aggre_feat_65  aggre_feat_66  aggre_feat_67  \\\n",
       "3       -0.577099      -0.613614       0.241128       0.241406       1.072793   \n",
       "9       -0.577099      -0.613614       0.241128       0.241406       0.604120   \n",
       "10      -0.577099      -0.613614       0.241128       0.241406       0.018279   \n",
       "11      -0.539735      -0.582077      -0.979074      -0.978556       0.018279   \n",
       "16      -0.577099      -0.600999       0.241128       0.241406       0.018279   \n",
       "\n",
       "    aggre_feat_68  aggre_feat_69  aggre_feat_70  aggre_feat_71  aggre_feat_72  \n",
       "3        0.085530      -0.131155       0.677799      -0.120613      -0.119792  \n",
       "9        0.008632      -0.131155       0.333211      -0.120613      -0.119792  \n",
       "10      -0.087490      -0.131155      -0.097524      -0.120613      -0.119792  \n",
       "11      -0.087490      -0.131155      -0.097524      -0.120613      -0.119792  \n",
       "16      -0.068266      -0.084674      -0.054450      -1.760926      -1.760984  \n",
       "\n",
       "[5 rows x 166 columns]"
      ]
     },
     "execution_count": 36,
     "metadata": {},
     "output_type": "execute_result"
    }
   ],
   "source": [
    "X = df_labled.drop(['txid','class'],axis =1)\n",
    "X.head()"
   ]
  },
  {
   "cell_type": "code",
   "execution_count": 37,
   "id": "47cb48fe",
   "metadata": {},
   "outputs": [
    {
     "data": {
      "text/plain": [
       "3     0\n",
       "9     0\n",
       "10    0\n",
       "11    0\n",
       "16    0\n",
       "Name: class, dtype: int64"
      ]
     },
     "execution_count": 37,
     "metadata": {},
     "output_type": "execute_result"
    }
   ],
   "source": [
    "y = df_labled['class']\n",
    "y.head()"
   ]
  },
  {
   "cell_type": "markdown",
   "id": "5a286974",
   "metadata": {},
   "source": [
    "#### Create Functions for model training evaluation"
   ]
  },
  {
   "cell_type": "code",
   "execution_count": 38,
   "id": "ea017a78",
   "metadata": {},
   "outputs": [],
   "source": [
    "def evaluate_clf(y_true,y_predicted):\n",
    "    '''\n",
    "    This function takes y_true and y_predicted values \n",
    "    Return: Accuracy,F1-score, Precision, Recall,Roc-auc score\n",
    "    '''\n",
    "    acc = accuracy_score(y_true,y_predicted) # calculate accuracy\n",
    "    f1 = f1_score(y_true,y_predicted) # calculate f1-score\n",
    "    precision = precision_score(y_true,y_predicted)  # calculate precision\n",
    "    recall = recall_score(y_true,y_predicted) # calculate recall\n",
    "    roc_auc = roc_auc_score(y_true,y_predicted) # calculate roc and auc score\n",
    "    return acc,f1,precision,recall,roc_auc"
   ]
  },
  {
   "cell_type": "code",
   "execution_count": 39,
   "id": "bf58ef2a",
   "metadata": {},
   "outputs": [],
   "source": [
    "def total_cost(y_true,y_predicted):\n",
    "    '''\n",
    "    This function takes y_true , y_predicted\n",
    "    Returns: total cost due to missclassification\n",
    "    '''\n",
    "    tn,fp,fn,tp = confusion_matrix(y_true,y_predicted).ravel()\n",
    "    cost = 10*fp + 500*fn\n",
    "    return fp"
   ]
  },
  {
   "cell_type": "code",
   "execution_count": 40,
   "id": "c1645744",
   "metadata": {},
   "outputs": [],
   "source": [
    "def evaluate_models(X,y, models):\n",
    "    '''\n",
    "    This function takes in X , and models dictionary as input\n",
    "    It splits the data into Train Test Split\n",
    "    Iterates through the given model dictionary and evaluates the metrics\n",
    "    Returns: DataFrame which contains report of all models with cose\n",
    "    '''\n",
    "    # split the data into train and test by using stratified K fold cross validation to avoid overfitting\n",
    "    X_train,X_test,y_train,y_test = train_test_split(X,y,test_size = 0.2,stratify=y,random_state = 42)\n",
    "    \n",
    "    cost_list = []\n",
    "    models_list = []\n",
    "    accuracy_list = []\n",
    "    \n",
    "    for i in range(len(list(models))):\n",
    "        model = list(models.values())[i]\n",
    "        model.fit(X_train,y_train) # train the model\n",
    "        \n",
    "        # make predictions\n",
    "        y_train_pred = model.predict(X_train)\n",
    "        y_test_pred  = model.predict(X_test)\n",
    "        \n",
    "        # training the set performance \n",
    "        model_train_accuracy, model_train_f1,model_train_precision,\\\n",
    "        model_train_recall, model_train_roauc_score = evaluate_clf(y_train,y_train_pred)\n",
    "        train_cost = total_cost(y_train,y_train_pred)\n",
    "        \n",
    "        # test set performance\n",
    "        model_test_accuracy, model_test_f1,model_test_precision,\\\n",
    "        model_test_recall, model_test_roauc_score =evaluate_clf(y_test,y_test_pred)\n",
    "        test_cost = total_cost(y_test,y_test_pred)\n",
    "        \n",
    "        print(list(models.keys())[i])\n",
    "        models_list.append(list(models.keys())[i])\n",
    "        \n",
    "        print('Model Performance for trainig test')\n",
    "        print('- Accuracy: {:.4f}' .format(model_train_accuracy))\n",
    "        print('- F1 score: {:.4f}' .format(model_train_f1))\n",
    "        print('- Precision: {:.4f}' .format(model_train_precision))\n",
    "        print('- Recall: {:.4f}' .format(model_train_recall))\n",
    "        print('- Roc Auc score: {:.4f}' .format(model_train_roauc_score))\n",
    "        print(f'- FP: {train_cost}.' )\n",
    "        \n",
    "        print('-----------------------------------------')\n",
    "        \n",
    "        print('Model Performance for test test')\n",
    "        print('- Accuracy: {:.4f}' .format(model_test_accuracy))\n",
    "        print('- F1 score: {:.4f}' .format(model_test_f1))\n",
    "        print('- Precision: {:.4f}' .format(model_test_precision))\n",
    "        print('- Recall: {:.4f}' .format(model_test_recall))\n",
    "        print('- Roc Auc score: {:.4f}' .format(model_test_roauc_score))\n",
    "        print(f'- FP: {test_cost}.')\n",
    "        cost_list.append(test_cost)\n",
    "        print('='*35)\n",
    "        print('\\n')\n",
    "    report = pd.DataFrame(list(zip(models_list,cost_list)),columns = ['Model Name', 'Cost']).sort_values(by = ['Cost'])\n",
    "    \n",
    "    return report  "
   ]
  },
  {
   "cell_type": "markdown",
   "id": "76a1c0f4",
   "metadata": {},
   "source": [
    "#### Handling imbalanced data"
   ]
  },
  {
   "cell_type": "code",
   "execution_count": 41,
   "id": "80fa20b5",
   "metadata": {},
   "outputs": [],
   "source": [
    "# resampling the minority class.The strategy can be changed as required\n",
    "smt = SMOTETomek(random_state = 42,sampling_strategy = 'minority', n_jobs = -1)\n",
    "# Fit the model to generate the data\n",
    "X_res,y_res = smt.fit_resample(X,y)"
   ]
  },
  {
   "cell_type": "markdown",
   "id": "d333e544",
   "metadata": {
    "collapsed": true
   },
   "source": [
    "### Intialize Default models in a dictionary "
   ]
  },
  {
   "cell_type": "code",
   "execution_count": 42,
   "id": "1fb2a470",
   "metadata": {},
   "outputs": [],
   "source": [
    "# Dictionary which contains models for ecperiment\n",
    "models = {\n",
    "    'Random Forest': RandomForestClassifier(),\n",
    "    'Decision Tree': DecisionTreeClassifier(),\n",
    "    'Gradient Boosting': GradientBoostingClassifier(),\n",
    "    'Logistice Regression': LogisticRegression(),\n",
    "    'K-Neighbors Classifier': KNeighborsClassifier(),\n",
    "    'XGBoosting Classifier': XGBClassifier(),\n",
    "    'CatBoosting Classifier': CatBoostClassifier(verbose = False),\n",
    "    'AdaBoost Classifier': AdaBoostClassifier()\n",
    "}"
   ]
  },
  {
   "cell_type": "code",
   "execution_count": 43,
   "id": "70727ed0",
   "metadata": {},
   "outputs": [
    {
     "name": "stdout",
     "output_type": "stream",
     "text": [
      "Random Forest\n",
      "Model Performance for trainig test\n",
      "- Accuracy: 1.0000\n",
      "- F1 score: 1.0000\n",
      "- Precision: 1.0000\n",
      "- Recall: 1.0000\n",
      "- Roc Auc score: 1.0000\n",
      "- FP: 0.\n",
      "-----------------------------------------\n",
      "Model Performance for test test\n",
      "- Accuracy: 0.9952\n",
      "- F1 score: 0.9952\n",
      "- Precision: 0.9989\n",
      "- Recall: 0.9916\n",
      "- Roc Auc score: 0.9952\n",
      "- FP: 9.\n",
      "===================================\n",
      "\n",
      "\n",
      "Decision Tree\n",
      "Model Performance for trainig test\n",
      "- Accuracy: 1.0000\n",
      "- F1 score: 1.0000\n",
      "- Precision: 1.0000\n",
      "- Recall: 1.0000\n",
      "- Roc Auc score: 1.0000\n",
      "- FP: 0.\n",
      "-----------------------------------------\n",
      "Model Performance for test test\n",
      "- Accuracy: 0.9825\n",
      "- F1 score: 0.9825\n",
      "- Precision: 0.9812\n",
      "- Recall: 0.9838\n",
      "- Roc Auc score: 0.9825\n",
      "- FP: 158.\n",
      "===================================\n",
      "\n",
      "\n",
      "Gradient Boosting\n",
      "Model Performance for trainig test\n",
      "- Accuracy: 0.9869\n",
      "- F1 score: 0.9868\n",
      "- Precision: 0.9916\n",
      "- Recall: 0.9820\n",
      "- Roc Auc score: 0.9869\n",
      "- FP: 279.\n",
      "-----------------------------------------\n",
      "Model Performance for test test\n",
      "- Accuracy: 0.9845\n",
      "- F1 score: 0.9844\n",
      "- Precision: 0.9906\n",
      "- Recall: 0.9783\n",
      "- Roc Auc score: 0.9845\n",
      "- FP: 78.\n",
      "===================================\n",
      "\n",
      "\n",
      "Logistice Regression\n",
      "Model Performance for trainig test\n",
      "- Accuracy: 0.9108\n",
      "- F1 score: 0.9136\n",
      "- Precision: 0.8858\n",
      "- Recall: 0.9433\n",
      "- Roc Auc score: 0.9108\n",
      "- FP: 4088.\n",
      "-----------------------------------------\n",
      "Model Performance for test test\n",
      "- Accuracy: 0.9095\n",
      "- F1 score: 0.9121\n",
      "- Precision: 0.8869\n",
      "- Recall: 0.9387\n",
      "- Roc Auc score: 0.9095\n",
      "- FP: 1006.\n",
      "===================================\n",
      "\n",
      "\n",
      "K-Neighbors Classifier\n",
      "Model Performance for trainig test\n",
      "- Accuracy: 0.9745\n",
      "- F1 score: 0.9751\n",
      "- Precision: 0.9516\n",
      "- Recall: 0.9997\n",
      "- Roc Auc score: 0.9745\n",
      "- FP: 1708.\n",
      "-----------------------------------------\n",
      "Model Performance for test test\n",
      "- Accuracy: 0.9656\n",
      "- F1 score: 0.9667\n",
      "- Precision: 0.9358\n",
      "- Recall: 0.9996\n",
      "- Roc Auc score: 0.9656\n",
      "- FP: 576.\n",
      "===================================\n",
      "\n",
      "\n",
      "[22:32:34] WARNING: C:/Users/Administrator/workspace/xgboost-win64_release_1.3.0/src/learner.cc:1061: Starting in XGBoost 1.3.0, the default evaluation metric used with the objective 'binary:logistic' was changed from 'error' to 'logloss'. Explicitly set eval_metric if you'd like to restore the old behavior.\n",
      "XGBoosting Classifier\n",
      "Model Performance for trainig test\n",
      "- Accuracy: 1.0000\n",
      "- F1 score: 1.0000\n",
      "- Precision: 1.0000\n",
      "- Recall: 1.0000\n",
      "- Roc Auc score: 1.0000\n",
      "- FP: 0.\n",
      "-----------------------------------------\n",
      "Model Performance for test test\n",
      "- Accuracy: 0.9967\n",
      "- F1 score: 0.9967\n",
      "- Precision: 0.9992\n",
      "- Recall: 0.9942\n",
      "- Roc Auc score: 0.9967\n",
      "- FP: 7.\n",
      "===================================\n",
      "\n",
      "\n",
      "CatBoosting Classifier\n",
      "Model Performance for trainig test\n",
      "- Accuracy: 0.9984\n",
      "- F1 score: 0.9984\n",
      "- Precision: 0.9994\n",
      "- Recall: 0.9973\n",
      "- Roc Auc score: 0.9984\n",
      "- FP: 19.\n",
      "-----------------------------------------\n",
      "Model Performance for test test\n",
      "- Accuracy: 0.9959\n",
      "- F1 score: 0.9959\n",
      "- Precision: 0.9987\n",
      "- Recall: 0.9931\n",
      "- Roc Auc score: 0.9959\n",
      "- FP: 11.\n",
      "===================================\n",
      "\n",
      "\n",
      "AdaBoost Classifier\n",
      "Model Performance for trainig test\n",
      "- Accuracy: 0.9688\n",
      "- F1 score: 0.9689\n",
      "- Precision: 0.9639\n",
      "- Recall: 0.9740\n",
      "- Roc Auc score: 0.9688\n",
      "- FP: 1227.\n",
      "-----------------------------------------\n",
      "Model Performance for test test\n",
      "- Accuracy: 0.9673\n",
      "- F1 score: 0.9674\n",
      "- Precision: 0.9631\n",
      "- Recall: 0.9718\n",
      "- Roc Auc score: 0.9673\n",
      "- FP: 313.\n",
      "===================================\n",
      "\n",
      "\n"
     ]
    }
   ],
   "source": [
    "## Training all models\n",
    "report = evaluate_models(X_res,y_res,models)"
   ]
  },
  {
   "cell_type": "code",
   "execution_count": 44,
   "id": "0033a18d",
   "metadata": {},
   "outputs": [
    {
     "data": {
      "text/html": [
       "<div>\n",
       "<style scoped>\n",
       "    .dataframe tbody tr th:only-of-type {\n",
       "        vertical-align: middle;\n",
       "    }\n",
       "\n",
       "    .dataframe tbody tr th {\n",
       "        vertical-align: top;\n",
       "    }\n",
       "\n",
       "    .dataframe thead th {\n",
       "        text-align: right;\n",
       "    }\n",
       "</style>\n",
       "<table border=\"1\" class=\"dataframe\">\n",
       "  <thead>\n",
       "    <tr style=\"text-align: right;\">\n",
       "      <th></th>\n",
       "      <th>Model Name</th>\n",
       "      <th>Cost</th>\n",
       "    </tr>\n",
       "  </thead>\n",
       "  <tbody>\n",
       "    <tr>\n",
       "      <th>5</th>\n",
       "      <td>XGBoosting Classifier</td>\n",
       "      <td>7</td>\n",
       "    </tr>\n",
       "    <tr>\n",
       "      <th>0</th>\n",
       "      <td>Random Forest</td>\n",
       "      <td>9</td>\n",
       "    </tr>\n",
       "    <tr>\n",
       "      <th>6</th>\n",
       "      <td>CatBoosting Classifier</td>\n",
       "      <td>11</td>\n",
       "    </tr>\n",
       "    <tr>\n",
       "      <th>2</th>\n",
       "      <td>Gradient Boosting</td>\n",
       "      <td>78</td>\n",
       "    </tr>\n",
       "    <tr>\n",
       "      <th>1</th>\n",
       "      <td>Decision Tree</td>\n",
       "      <td>158</td>\n",
       "    </tr>\n",
       "    <tr>\n",
       "      <th>7</th>\n",
       "      <td>AdaBoost Classifier</td>\n",
       "      <td>313</td>\n",
       "    </tr>\n",
       "    <tr>\n",
       "      <th>4</th>\n",
       "      <td>K-Neighbors Classifier</td>\n",
       "      <td>576</td>\n",
       "    </tr>\n",
       "    <tr>\n",
       "      <th>3</th>\n",
       "      <td>Logistice Regression</td>\n",
       "      <td>1006</td>\n",
       "    </tr>\n",
       "  </tbody>\n",
       "</table>\n",
       "</div>"
      ],
      "text/plain": [
       "               Model Name  Cost\n",
       "5   XGBoosting Classifier     7\n",
       "0           Random Forest     9\n",
       "6  CatBoosting Classifier    11\n",
       "2       Gradient Boosting    78\n",
       "1           Decision Tree   158\n",
       "7     AdaBoost Classifier   313\n",
       "4  K-Neighbors Classifier   576\n",
       "3    Logistice Regression  1006"
      ]
     },
     "execution_count": 44,
     "metadata": {},
     "output_type": "execute_result"
    }
   ],
   "source": [
    "report"
   ]
  },
  {
   "cell_type": "markdown",
   "id": "81cd637d",
   "metadata": {},
   "source": [
    "Based on the performance report, it appears that the XGBoost classifier has a better performance on the test set data compared to the K-Neighbors classifier, with a higher accuracy, F1 score, precision, recall, and ROC AUC score. \n",
    "But the XGBoost classifier has a much higher cost (25160) compared to the K-Neighbors classifier (11640).\n",
    "However, for our use case, we achieve a minmum False Positive Rate in XGBoost Classifier. \n",
    "So, the final best model is <b>XGBoost Classifier</b>"
   ]
  },
  {
   "cell_type": "markdown",
   "id": "4d033eeb",
   "metadata": {},
   "source": [
    "### Fitting the Final Model ang get reports"
   ]
  },
  {
   "cell_type": "code",
   "execution_count": 45,
   "id": "863b95d1",
   "metadata": {},
   "outputs": [],
   "source": [
    "final_model = XGBClassifier()\n",
    "\n",
    "# Resampling the minority class\n",
    "smt = SMOTETomek(random_state = 42, sampling_strategy = 'minority',n_jobs=1)\n",
    "X_res, y_res = smt.fit_resample(X,y)"
   ]
  },
  {
   "cell_type": "code",
   "execution_count": 46,
   "id": "27471aca",
   "metadata": {
    "scrolled": false
   },
   "outputs": [
    {
     "data": {
      "text/plain": [
       "((84038, 166), (84038,))"
      ]
     },
     "execution_count": 46,
     "metadata": {},
     "output_type": "execute_result"
    }
   ],
   "source": [
    "X_res.shape,y_res.shape"
   ]
  },
  {
   "cell_type": "code",
   "execution_count": 47,
   "id": "a416f18d",
   "metadata": {},
   "outputs": [
    {
     "name": "stdout",
     "output_type": "stream",
     "text": [
      "[22:35:35] WARNING: C:/Users/Administrator/workspace/xgboost-win64_release_1.3.0/src/learner.cc:1061: Starting in XGBoost 1.3.0, the default evaluation metric used with the objective 'binary:logistic' was changed from 'error' to 'logloss'. Explicitly set eval_metric if you'd like to restore the old behavior.\n"
     ]
    }
   ],
   "source": [
    "X_train,X_test,y_train,y_test = train_test_split(X_res,y_res, test_size = 0.2,random_state = 42)\n",
    "\n",
    "final_model = final_model.fit(X_train,y_train)\n",
    "y_pred = final_model.predict(X_test)"
   ]
  },
  {
   "cell_type": "code",
   "execution_count": 48,
   "id": "1cbd4f47",
   "metadata": {},
   "outputs": [
    {
     "name": "stdout",
     "output_type": "stream",
     "text": [
      "Final XGBoost Classifier Accuracy Score (Train) : 1.0\n",
      "Final XGBoost Classifier Accuracy Score (Test) : 0.9960732984293194\n"
     ]
    }
   ],
   "source": [
    "print('Final XGBoost Classifier Accuracy Score (Train) :', final_model.score(X_train,y_train))\n",
    "print('Final XGBoost Classifier Accuracy Score (Test) :', accuracy_score(y_pred,y_test))"
   ]
  },
  {
   "cell_type": "code",
   "execution_count": 49,
   "id": "8109dc1c",
   "metadata": {},
   "outputs": [
    {
     "data": {
      "image/png": "[encoded data removed]",
      "text/plain": [
       "<Figure size 640x480 with 2 Axes>"
      ]
     },
     "metadata": {},
     "output_type": "display_data"
    }
   ],
   "source": [
    "# plots confusion matrix\n",
    "cm = confusion_matrix(y_test, y_pred, labels=final_model.classes_)\n",
    "disp = ConfusionMatrixDisplay(confusion_matrix=cm,\n",
    "                               display_labels= final_model.classes_)\n",
    "disp.plot()\n",
    "plt.show()"
   ]
  },
  {
   "cell_type": "markdown",
   "id": "f629ab75",
   "metadata": {},
   "source": [
    "<b>The best Model is XGBoost Classifier with 99.6% accuracy and cost 25160.</b>"
   ]
  },
  {
   "cell_type": "code",
   "execution_count": 50,
   "id": "2df192ec",
   "metadata": {},
   "outputs": [
    {
     "ename": "NameError",
     "evalue": "name 'model' is not defined",
     "output_type": "error",
     "traceback": [
      "\u001b[1;31m---------------------------------------------------------------------------\u001b[0m",
      "\u001b[1;31mNameError\u001b[0m                                 Traceback (most recent call last)",
      "Cell \u001b[1;32mIn[50], line 2\u001b[0m\n\u001b[0;32m      1\u001b[0m \u001b[38;5;28;01mwith\u001b[39;00m \u001b[38;5;28mopen\u001b[39m(\u001b[38;5;124m'\u001b[39m\u001b[38;5;124mmodel.pkl\u001b[39m\u001b[38;5;124m'\u001b[39m, \u001b[38;5;124m'\u001b[39m\u001b[38;5;124mwb\u001b[39m\u001b[38;5;124m'\u001b[39m) \u001b[38;5;28;01mas\u001b[39;00m f:\n\u001b[1;32m----> 2\u001b[0m     pickle\u001b[38;5;241m.\u001b[39mdump(\u001b[43mmodel\u001b[49m,f)\n",
      "\u001b[1;31mNameError\u001b[0m: name 'model' is not defined"
     ]
    }
   ],
   "source": [
    "with open('model.pkl', 'wb') as f:\n",
    "    pickle.dump(model,f)"
   ]
  },
  {
   "cell_type": "code",
   "execution_count": null,
   "id": "79ecd823",
   "metadata": {},
   "outputs": [],
   "source": [
    "pickled_model = pickle.load(open('model.pkl', 'rb'))\n",
    "y_pred = pickled_model.predict(X_test.values)"
   ]
  },
  {
   "cell_type": "code",
   "execution_count": null,
   "id": "3c224646",
   "metadata": {},
   "outputs": [],
   "source": [
    "print('Test the model after saving and get the accuracy of : {:.2f}%'.format(accuracy_score(y_pred,y_test)*100))"
   ]
  },
  {
   "cell_type": "code",
   "execution_count": null,
   "id": "df17091d",
   "metadata": {},
   "outputs": [],
   "source": []
  }
 ],
 "metadata": {
  "kernelspec": {
   "display_name": "Python 3 (ipykernel)",
   "language": "python",
   "name": "python3"
  },
  "language_info": {
   "codemirror_mode": {
    "name": "ipython",
    "version": 3
   },
   "file_extension": ".py",
   "mimetype": "text/x-python",
   "name": "python",
   "nbconvert_exporter": "python",
   "pygments_lexer": "ipython3",
   "version": "3.8.0"
  },
  "vscode": {
   "interpreter": {
    "hash": "a444c19fd90389ec7bccbcf444926015e7a5bbdb0788651a49986602e7124a40"
   }
  }
 },
 "nbformat": 4,
 "nbformat_minor": 5
}
